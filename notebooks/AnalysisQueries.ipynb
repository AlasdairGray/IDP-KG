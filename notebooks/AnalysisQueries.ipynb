{
 "cells": [
  {
   "cell_type": "markdown",
   "metadata": {
    "tags": []
   },
   "source": [
    "# Analysis of the IDP Knowledge Graph\n",
    "\n",
    "__Authors:__  \n",
    "Alasdair J G Gray ([ORCID:0000-0002-5711-4872](http://orcid.org/0000-0002-5711-4872)), _Heriot-Watt University, Edinburgh, UK_\n",
    "\n",
    "Petros Papadopoulos ([ORCID:0000-0002-8110-7576](https://orcid.org/0000-0002-8110-7576)), _Heriot-Watt University, Edinburgh, UK_\n",
    "\n",
    "Ivan Mičetić ([ORCID:0000-0003-1691-8425](https://orcid.org/0000-0003-1691-8425)), _University of Padua, Italy_\n",
    "\n",
    "Andras Hatos ([ORCID:0000-0001-9224-9820](https://orcid.org/0000-0001-9224-9820)), _University of Padua, Italy_\n",
    "\n",
    "Imran Asif ([ORCID:0000-0002-1144-6265](https://orcid.org/0000-0002-1144-6265)), _Heriot-Watt University, Edinburgh, UK_\n",
    "\n",
    "\n",
    "__License:__ Apache 2.0\n",
    "\n",
    "__Acknowledgements:__ This work was funded as part of the [ELIXIR Interoperabiltiy Platform](https://elixir-europe.org/platforms/interoperability) Strategic Implementation Study [Exploiting Bioschemas Markup to Support ELIXIR Communities](https://elixir-europe.org/about-us/commissioned-services/exploiting-bioschemas-markup-support-elixir-communities). This notebook builds upon the work conducted during the Virtual BioHackathon-Europe 2020 reported in [BioHackrXiv](https://biohackrxiv.org/v3jct/)."
   ]
  },
  {
   "cell_type": "markdown",
   "metadata": {
    "toc-hr-collapsed": true
   },
   "source": [
    "## Introduction\n",
    "\n",
    "In this notebook we supply a user interface to query the IDP-KG from a set of predefined queries. The IDP knowledge graph was constructed from Bioschemas markup embedded in DisProt, MobiDb, and Protein Ensemble Database (PED) that was harvested using the Bioschemas Markup Scraper and Extractor and converted into a knowledge graph using the process in this [notebook](https://github.com/AlasdairGray/IDPcentral/blob/main/notebooks/ETLProcess.ipynb). \n",
    "\n",
    "The available queries can be grouped as discussed in the following subsections."
   ]
  },
  {
   "cell_type": "markdown",
   "metadata": {
    "jp-MarkdownHeadingCollapsed": true,
    "tags": []
   },
   "source": [
    "### HCLS Dataset Statistics\n",
    "\n",
    "As part of the W3C Health Care and Life Sciences Interest Group [guidelines for dataset descriptions](https://www.w3.org/TR/hcls-dataset/), they provided a set of queries that provide useful statistics to understand a dataset. The queries range from providing basic statistics such as number of triples, classes, and objects to more complex statistics such as the number of typed objects linked to a property. \n",
    "\n",
    "All 14 queries are available through the interface below:\n",
    "1. Number of triples\n",
    "1. Number of unique typed entities\n",
    "1. Number of unique subjects\n",
    "1. Number of unique properties\n",
    "1. Number of unique objects\n",
    "1. Number of unique classes\n",
    "1. Number of unique literals\n",
    "1. Number of graphs\n",
    "1. Number of instances per class\n",
    "1. Number of occurrences of each property\n",
    "1. Number of unique typed subjects and triples linked with each property\n",
    "1. Number of unique typed objects linked with each property\n",
    "1. Triples and number of unique literals related with each property\n",
    "1. Number of unique subject types that are linked to unique object types"
   ]
  },
  {
   "cell_type": "markdown",
   "metadata": {
    "tags": []
   },
   "source": [
    "### IDP-KG Analysis Queries\n",
    "The HCLS statistics provide generic dataset statistics. We will now focus on information about the data content that is of interest to the IDP community.\n",
    "\n",
    "#### Analysis of Proteins\n",
    "The following queries focus on the proteins in the IDP-KG:\n",
    "1. Number of distinct proteins: note that the same protein can be present in multiple named graphs due to the overlap of the data sources.\n",
    "1. Number of proteins per dataset\n",
    "1. Number of datasets, and datasets, associated with each protein\n",
    "1. Venn analysis of proteins from the three data sources; query calculates the number of proteins in each of the different intersections of the three data sources\n",
    "1. Number of source pages for each protein; in PED the same protein can be found on multiple pages\n",
    "1. Minimal protein information; retrieves some basic information about each protein\n",
    "1. Full protein information; retrieves all properties associated with each protein\n",
    "\n",
    "\n",
    "### Analysis of SequenceAnnotations\n",
    "The following queries focus on the `SequenceAnnotation` type in the IDP-KG:\n",
    "1. Number of sequence annotations per dataset\n",
    "1. Number of sequence annotations that come from multiple datasets; note that as sequence annotations are not merged we do not expect any answers to this query\n",
    "1. Number of sequence annotations that come from multiple pages; note that as sequence annotations are not merged we do not expect any answers to this query\n",
    "1. Sequence annotation information; return properties associated with a sequence annotation\n",
    "1. Number of scholarly articles associated with each sequence annotation\n",
    "1. Number of sequence annotations associated with each scholarly article\n",
    "1. Number of sequence annotations linked with each IDP Ontology term code\n",
    "\n",
    "### Queries connecting Proteins with their annotations\n",
    "The following queries follow links between proteins and their annotations\n",
    "1. Number of annotations by protein where the annotations come different datasets\n",
    "1. Number of annotations by protein where the annotations come different pages; note that PED can have the same protein appearing on multiple pages\n",
    "1. Protein/SequenceAnnotation information query"
   ]
  },
  {
   "cell_type": "markdown",
   "metadata": {},
   "source": [
    "## Query Execution\n",
    "\n",
    "The cells in this section set up the querying infrastructures (RDFlib or external SPARQL endpoint), and details the queries that are read in from the [query directory](https://github.com/AlasdairGray/IDPcentral/tree/main/queries).\n",
    "\n",
    "It then presents a couple of user input selection widgets to allow the user to select the data they wish to query and the query to execute. The data that can be queried are: \n",
    "- Supplying your own endpoint location (recommended if you want to query the full IDP-KG;\n",
    "- Using one of the IDP-KGs from the repository: test-8, sample-25, and full scrape. These will be executed using the Python RDFlib SPARQL processor which is not very efficient for larger datasets;\n",
    "- Using the file generated with the [ETLProcess notebook](https://github.com/AlasdairGray/IDPcentral/blob/main/notebooks/ETLProcess.ipynb)"
   ]
  },
  {
   "cell_type": "markdown",
   "metadata": {},
   "source": [
    "### Library Imports\n",
    "\n",
    "The notebook makes use of a number of libraries to execute the queries and display the results back."
   ]
  },
  {
   "cell_type": "code",
   "execution_count": 117,
   "metadata": {},
   "outputs": [],
   "source": [
    "# Import and configure logging library\n",
    "from datetime import datetime\n",
    "import logging\n",
    "logging.basicConfig(\n",
    "    filename='idpQuery.log', \n",
    "    filemode='w', \n",
    "    format='%(levelname)s:%(message)s', \n",
    "    level=logging.INFO)\n",
    "logging.info('Starting processing at %s' % datetime.now().time())"
   ]
  },
  {
   "cell_type": "code",
   "execution_count": 118,
   "metadata": {},
   "outputs": [],
   "source": [
    "# Imports for the UI\n",
    "import ipywidgets as widgets\n",
    "from ipywidgets import Layout\n",
    "from IPython.core.display import display, HTML\n",
    "from IPython.display import clear_output\n",
    "from SPARQLWrapper import SPARQLWrapper, JSON, XML\n",
    "import json\n",
    "import glob\n",
    "import html"
   ]
  },
  {
   "cell_type": "code",
   "execution_count": 119,
   "metadata": {},
   "outputs": [],
   "source": [
    "# Imports from RDFlib\n",
    "import rdflib\n",
    "from rdflib import ConjunctiveGraph, plugin\n",
    "from rdflib.serializer import Serializer"
   ]
  },
  {
   "cell_type": "markdown",
   "metadata": {},
   "source": [
    "### Result Display Function\n",
    "\n",
    "The following function takes the results of a `SPARQL SELECT` query and displays them using a HTML table for human viewing."
   ]
  },
  {
   "cell_type": "code",
   "execution_count": 120,
   "metadata": {},
   "outputs": [],
   "source": [
    "def displayResults(queryResult):\n",
    "    style = \"\"\" <style>\n",
    "                    .table {\n",
    "                      width:100%;\n",
    "                      border-collapse: collapse;  \n",
    "                    }\n",
    "                    .table tr:nth-child(even) {background-color: #f2f2f2;}\n",
    "                    .table tr:hover {background-color: #ccc;}\n",
    "                    .table th {\n",
    "                        color:white;\n",
    "                        background-color:#43BFC7;\n",
    "                      position: sticky;\n",
    "                      top: 0px;\n",
    "                    }\n",
    "                </style> \"\"\"\n",
    "    HTMLResult = style + '<div style=\"width:110vh;height:40vh;overflow-x: auto;overflow-y: auto;\"><p>Number of results: ' + str(len(queryResult['results']['bindings'])) + '</p>'\n",
    "    HTMLResult = HTMLResult + '<table class=\"table\"><tr>'\n",
    "    # print variable names and build header:\n",
    "    for varName in queryResult['head']['vars']:\n",
    "        HTMLResult = HTMLResult + '<th>' + varName + '</th>'\n",
    "    HTMLResult = HTMLResult + '</tr>'\n",
    "    \n",
    "    # print values from each row and build table of results\n",
    "    for row in queryResult['results']['bindings']:\n",
    "        HTMLResult = HTMLResult + '<tr>' \n",
    "        for column in queryResult['head']['vars']:\n",
    "            #print(\"COLUMN:\", column)\n",
    "            if column != \"\":\n",
    "                HTMLResult = HTMLResult + '<td>' +  str(row[column]['value']) + '</td>'\n",
    "            else:\n",
    "                HTMLResult = HTMLResult + '<td>' + \"N/A\"+ '</td>'\n",
    "        HTMLResult = HTMLResult + '</tr>'\n",
    "    HTMLResult = HTMLResult + '</table></div>'\n",
    "    return HTMLResult\n",
    "    #display(HTML(HTMLResult))"
   ]
  },
  {
   "cell_type": "markdown",
   "metadata": {},
   "source": [
    "### Loading and Querying IDP-KG\n",
    "\n",
    "The following code will read in the data selected by the user, or configure the SPARQL endpoint to use. It also orders the queries that can be chosen as those that correspond the HCLS statistics queries or IDP-KG analysis queries."
   ]
  },
  {
   "cell_type": "code",
   "execution_count": 121,
   "metadata": {
    "tags": []
   },
   "outputs": [],
   "source": [
    "idpKG = None\n",
    "opt = ''  #selection option\n",
    "query_options = [] # use in dropdown list\n",
    "\n",
    "queryOrder = { #All queries must be entered here.\n",
    "\t\t\t  1: 'hcls-stats/number-triples.rq', \n",
    "     \t\t  2: 'hcls-stats/typed-entities.rq', \n",
    "\t\t\t  3: 'hcls-stats/number-subjects.rq', \n",
    "\t\t\t  4: 'hcls-stats/number-properties.rq', \n",
    "\t\t\t  5: 'hcls-stats/number-objects.rq',\n",
    "\t\t\t  6: 'hcls-stats/number-classes.rq',\n",
    "\t\t\t  7: 'hcls-stats/number-literals.rq',\n",
    "\t\t\t  8: 'hcls-stats/number-graphs.rq',\n",
    "\t\t\t  9: 'hcls-stats/class-count.rq',\n",
    "\t\t\t  10: 'hcls-stats/properties-ccurence.rq',\n",
    "\t\t\t  11: 'hcls-stats/property-subjects-triples.rq',\n",
    "\t\t\t  12: 'hcls-stats/number-typed-objects-linked-property.rq',\n",
    "\t\t\t  13: 'hcls-stats/triples-literals-related-property.rq',\n",
    "\t\t\t  14: 'hcls-stats/number-subject-types-object-types.rq',\n",
    "\t\t\t  15: 'proteins/protein-count.rq',\n",
    "\t\t\t  16: 'proteins/protein-per-dataset.rq',\n",
    "\t\t\t  17: 'proteins/protein-multi-datasets.rq',\n",
    "\t\t\t  18: 'proteins/proteins-by-dataset-groupings.rq',\n",
    "\t\t\t  19: 'proteins/protein-multi-pages.rq',\n",
    "\t\t\t  20: 'proteins/protein-information-minimal.rq',\n",
    "\t\t  \t  21: 'proteins/protein-information.rq',\n",
    "\t\t\t  22: 'annotations/annotation-per-dataset.rq',\n",
    "\t\t\t  23: 'annotations/annotations-multi-datasets.rq',\n",
    "\t\t\t  24: 'annotations/annotations-multi-pages.rq',\n",
    "\t\t\t  25: 'annotations/annotation-details.rq',\n",
    "\t\t\t  26: 'annotations/annotation-scholarly-articles.rq',\n",
    "\t\t\t  27: 'annotations/annotations-per-article.rq',\n",
    "\t\t\t  30: 'annotations/annotations-by-term-code.rq',\n",
    "\t\t\t  31: 'annotations/protein-annotations-multi-datasets.rq',\n",
    "\t\t      32: 'annotations/protein-annotation-count.rq',\n",
    "\t\t      33: 'annotations/list-annotations.rq'\n",
    "\t\t\t }\n",
    "\n",
    "# Change the order in dict key, the following line sort it and execute query\n",
    "queryOrder = {k: queryOrder[k] for k in sorted(queryOrder)}\n",
    "\n",
    "query_options.append(('All Queries', 'all'))\n",
    "for key in queryOrder:\n",
    "    text = '' #queryOrder[key].split(\"/\")[1]\n",
    "    with open('../queries/'+queryOrder[key]) as f:\n",
    "        query = f.read()\n",
    "        if '#' in query.partition('\\n')[0]:\n",
    "            text = query.partition('\\n')[0].replace('#','').strip()\n",
    "            \n",
    "    query_options.append((text, queryOrder[key]))\n",
    "    \n",
    "# Following method set the graph variable to sparql endpoint or local in-memory    \n",
    "def set_variable(loadingOpt, endpoint):\n",
    "    global idpKG\n",
    "    if loadingOpt == 'sparql':\n",
    "        idpKG = SPARQLWrapper(endpoint)\n",
    "        idpKG.method = 'POST'\n",
    "        idpKG.setReturnFormat(JSON)\n",
    "        logging.info(\"SPARQL Endpoint: %s\" % endpoint)\n",
    "    else:\n",
    "        idpKG = ConjunctiveGraph()\n",
    "        idpKG.parse(endpoint, format=\"nquads\")\n",
    "        #idpKG.serialize(format=\"json-ld\") \n",
    "        logging.info(\"\\tIDP-KG has %s statements.\" % len(idpKG))\n",
    "\n",
    "def query_idpkg(query, loadingOpt):\n",
    "    if loadingOpt == 'sparql':\n",
    "        idpKG.setQuery(query)\n",
    "        results = idpKG.queryAndConvert()\n",
    "        #ToDo: add log message here giving number of results\n",
    "        logging.info(\"Number of Results: %s\" % str(len(results['results']['bindings'])))\n",
    "        return results\n",
    "    else:\n",
    "        results = idpKG.query(query)\n",
    "        results = json.loads(results.serialize(format=\"json\"))\n",
    "        logging.info(\"Number of Results: %s\" % str(len(results['results']['bindings'])))\n",
    "        return results\n",
    "    \n",
    "def display_query_results(query, results, query_title, queryFile):\n",
    "    accordion = widgets.Accordion(children=[widgets.HTML(value=query), widgets.HTML(value=results)], \n",
    "                              selected_index=1,\n",
    "                              layout=Layout(width='100%'))\n",
    "    accordion.set_title(0, 'Query: ' + query_title + ' ('+'File: /queries/' + queryFile+')')\n",
    "    accordion.set_title(1, 'Results')\n",
    "    display(accordion)\n",
    "\n",
    "def runQuery(queryFile):\n",
    "    with open('../queries/'+queryFile) as f:\n",
    "        query = f.read()\n",
    "        first_line = query.partition('\\n')[0]\n",
    "        \n",
    "        if '#' in first_line:\n",
    "            query = query.split(\"\\n\",1)[1]\n",
    "        else:\n",
    "            first_line = ''\n",
    "            \n",
    "        display(HTML('<hr />'))\n",
    "        display_query = '<div style=\"height:40vh;overflow-x:auto;overflow-y:auto;\"><pre>'+html.escape(query)+'</pre></div>'\n",
    "        logging.debug('File: /queries/' + queryFile)\n",
    "        logging.debug('Query:\\n' + query)\n",
    "        try:\n",
    "            HTMLResult = displayResults(query_idpkg(query, opt))\n",
    "            display_query_results(display_query, HTMLResult, first_line.replace('#',''), queryFile)\n",
    "        except Exception as e:\n",
    "            display_query_results(display_query, 'Exception: ' + str(e), first_line.replace('#',''), queryFile)\n",
    "            \n",
    "##########################################################################################################\n",
    "#Create Selection GUI\n",
    "rdo1 = widgets.RadioButtons(\n",
    "    options=['SPARQL Endpoint:', 'Test-8', 'Sample-25', 'IDPKG-Full.nq', 'IDPKG.nq'],\n",
    "    #     value='pineapple',\n",
    "    #description='Pizza topping:',\n",
    "    name = 'select',\n",
    "    disabled=False,\n",
    "    layout=Layout(width='20%')\n",
    ")\n",
    "    \n",
    "txt = widgets.Text(\n",
    "    value='https://swel.macs.hw.ac.uk/rdf4j-server/repositories/IDPKG',\n",
    "    placeholder='Enter endpoint',\n",
    "    disabled=False,\n",
    "    layout=Layout(width='80%', height='5px')\n",
    ")\n",
    "\n",
    "dropdown = widgets.Dropdown(\n",
    "            options=query_options,\n",
    "            value='all'\n",
    "        )\n",
    "    \n",
    "btn = widgets.Button(\n",
    "    description='Execute',\n",
    "    disabled=False,\n",
    "    button_style='', # 'success', 'info', 'warning', 'danger' or ''\n",
    "    tooltip='Execute',\n",
    "    icon='check'\n",
    ")\n",
    "output = widgets.Output()\n",
    "\n",
    "def loading():\n",
    "    btn.icon = 'hourglass-1'\n",
    "    btn.description = 'Busy'\n",
    "    btn.disabled = True\n",
    "    \n",
    "def endLoading():\n",
    "    btn.icon = 'check'\n",
    "    btn.description = 'Execute'\n",
    "    btn.disabled = False\n",
    "\n",
    "def createSelectionGUI():\n",
    "    btn.on_click(on_button_clicked)\n",
    "    display(widgets.HBox([rdo1, txt]), widgets.HTML(value='<hr />'), dropdown, widgets.VBox([btn]), output)\n",
    "\n",
    "def on_button_clicked(e):\n",
    "    loading()\n",
    "    with output:\n",
    "        global opt\n",
    "        if 'sparql' in rdo1.value.lower():\n",
    "            if txt.value == '':\n",
    "                display(HTML('<span style=\"color:red\">Please enter SPARQL endpoint.</span>'))\n",
    "            else:\n",
    "                set_variable('sparql', txt.value)\n",
    "                opt = 'sparql'\n",
    "        else:\n",
    "            nqFile = ''\n",
    "            if 'test-8' in rdo1.value.lower():\n",
    "                nqFile = 'IDPKG-Sample8.nq'\n",
    "            elif 'sample-25' in rdo1.value.lower():\n",
    "                nqFile = 'IDPKG-Sample25.nq'\n",
    "            elif 'idpkg-full' in rdo1.value.lower():\n",
    "                nqFile = 'IDPKG-Full.nq'\n",
    "            elif 'idpkg' in rdo1.value.lower():\n",
    "                nqFile = 'IDPKG.nq'    \n",
    "            \n",
    "            set_variable('local', nqFile)\n",
    "            opt = 'local'\n",
    "            \n",
    "        clear_output(True)\n",
    "        \n",
    "        #Execute query\n",
    "        \n",
    "        if dropdown.value == 'all':\n",
    "            for key in queryOrder:\n",
    "                runQuery(queryOrder[key])\n",
    "        else:\n",
    "            runQuery(dropdown.value)\n",
    "        \n",
    "        endLoading()"
   ]
  },
  {
   "cell_type": "markdown",
   "metadata": {},
   "source": [
    "## IDP-KG Query Interface\n",
    "\n",
    "The following cell geneerates the UI and allows the selection of the KG and query to run. \n",
    "\n",
    "The results if the query execution are displayed below. The query box can be expanded to show the text of the query. The results box is scrollable.\n",
    "\n",
    "Descriptions of the first 14 quereies can be found in the [HCLS Dataset Description Community Profile](https://www.w3.org/TR/hcls-dataset/#s6_6)."
   ]
  },
  {
   "cell_type": "code",
   "execution_count": 122,
   "metadata": {
    "tags": []
   },
   "outputs": [
    {
     "data": {
      "application/vnd.jupyter.widget-view+json": {
       "model_id": "d9f066b390cc4d0dae45ac31e7dabd41",
       "version_major": 2,
       "version_minor": 0
      },
      "text/plain": [
       "HBox(children=(RadioButtons(layout=Layout(width='20%'), options=('SPARQL Endpoint:', 'Test-8', 'Sample-25', 'I…"
      ]
     },
     "metadata": {},
     "output_type": "display_data"
    },
    {
     "data": {
      "application/vnd.jupyter.widget-view+json": {
       "model_id": "3ce31e90cbd541308e749480526b8aab",
       "version_major": 2,
       "version_minor": 0
      },
      "text/plain": [
       "HTML(value='<hr />')"
      ]
     },
     "metadata": {},
     "output_type": "display_data"
    },
    {
     "data": {
      "application/vnd.jupyter.widget-view+json": {
       "model_id": "a8ffbe2b68b84ecb88e22858a71ecde0",
       "version_major": 2,
       "version_minor": 0
      },
      "text/plain": [
       "Dropdown(options=(('All Queries', 'all'), ('Number of Triples', 'hcls-stats/number-triples.rq'), ('Number of T…"
      ]
     },
     "metadata": {},
     "output_type": "display_data"
    },
    {
     "data": {
      "application/vnd.jupyter.widget-view+json": {
       "model_id": "08ceb5840d7b48718a6f9c553626fc9b",
       "version_major": 2,
       "version_minor": 0
      },
      "text/plain": [
       "VBox(children=(Button(description='Execute', icon='check', style=ButtonStyle(), tooltip='Execute'),))"
      ]
     },
     "metadata": {},
     "output_type": "display_data"
    },
    {
     "data": {
      "application/vnd.jupyter.widget-view+json": {
       "model_id": "394df1490c7b4e31a8febc82a226c5d6",
       "version_major": 2,
       "version_minor": 0
      },
      "text/plain": [
       "Output()"
      ]
     },
     "metadata": {},
     "output_type": "display_data"
    }
   ],
   "source": [
    "createSelectionGUI()"
   ]
  },
  {
   "cell_type": "code",
   "execution_count": null,
   "metadata": {},
   "outputs": [],
   "source": []
  }
 ],
 "metadata": {
  "kernelspec": {
   "display_name": "Python 3",
   "language": "python",
   "name": "python3"
  },
  "language_info": {
   "codemirror_mode": {
    "name": "ipython",
    "version": 3
   },
   "file_extension": ".py",
   "mimetype": "text/x-python",
   "name": "python",
   "nbconvert_exporter": "python",
   "pygments_lexer": "ipython3",
   "version": "3.7.3"
  },
  "toc-autonumbering": true,
  "toc-showcode": false,
  "toc-showmarkdowntxt": false,
  "toc-showtags": false
 },
 "nbformat": 4,
 "nbformat_minor": 4
}
