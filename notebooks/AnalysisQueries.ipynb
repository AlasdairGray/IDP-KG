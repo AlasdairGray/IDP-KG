{
 "cells": [
  {
   "cell_type": "markdown",
   "metadata": {
    "tags": []
   },
   "source": [
    "# Analysis of the IDP Knowledge Graph\n",
    "\n",
    "__Authors:__  \n",
    "Alasdair J G Gray ([ORCID:0000-0002-5711-4872](http://orcid.org/0000-0002-5711-4872)), _Heriot-Watt University, Edinburgh, UK_\n",
    "\n",
    "Petros Papadopoulos ([ORCID:0000-0002-8110-7576](https://orcid.org/0000-0002-8110-7576)), _Heriot-Watt University, Edinburgh, UK_\n",
    "\n",
    "Ivan Mičetić ([ORCID:0000-0003-1691-8425](https://orcid.org/0000-0003-1691-8425)), _University of Padua, Italy_\n",
    "\n",
    "Andras Hatos ([ORCID:0000-0001-9224-9820](https://orcid.org/0000-0001-9224-9820)), _University of Padua, Italy_\n",
    "\n",
    "Imran Asif ([ORCID:0000-0002-1144-6265](https://orcid.org/0000-0002-1144-6265)), _Heriot-Watt University, Edinburgh, UK_\n",
    "\n",
    "\n",
    "__License:__ Apache 2.0\n",
    "\n",
    "__Acknowledgements:__ This notebook was created during the Virtual BioHackathon-Europe 2020."
   ]
  },
  {
   "cell_type": "markdown",
   "metadata": {
    "toc-hr-collapsed": true
   },
   "source": [
    "## Introduction\n",
    "\n",
    "This notebook contains SPARQL queries to perform a data analysis of the Intrinsically Disordered Protein (IDP) Knowledge Graph. The IDP knowledge graph was constructed from Bioschemas markup embedded in DisProt, MobiDb, and Protein Ensemble Database (PED) that was harvested using the Bioschemas Markup Scraper and Extractor and converted into a knowledge graph using the process in this [notebook](https://github.com/elixir-europe/BioHackathon-projects-2020/blob/master/projects/24/IDPCentral/notebooks/ETLProcess.ipynb). "
   ]
  },
  {
   "cell_type": "markdown",
   "metadata": {},
   "source": [
    "### Library Imports"
   ]
  },
  {
   "cell_type": "code",
   "execution_count": 1,
   "metadata": {},
   "outputs": [],
   "source": [
    "# Import and configure logging library\n",
    "from datetime import datetime\n",
    "import logging\n",
    "logging.basicConfig(\n",
    "    filename='idpQuery.log', \n",
    "    filemode='w', \n",
    "    format='%(levelname)s:%(message)s', \n",
    "    level=logging.INFO)\n",
    "logging.info('Starting processing at %s' % datetime.now().time())"
   ]
  },
  {
   "cell_type": "code",
   "execution_count": 2,
   "metadata": {},
   "outputs": [],
   "source": [
    "# Imports from RDFlib\n",
    "from rdflib import ConjunctiveGraph"
   ]
  },
  {
   "cell_type": "markdown",
   "metadata": {},
   "source": [
    "### Result Display Function\n",
    "\n",
    "The following function takes the results of a `SPARQL SELECT` query and displays them using a HTML table for human viewing."
   ]
  },
  {
   "cell_type": "code",
   "execution_count": 3,
   "metadata": {},
   "outputs": [],
   "source": [
    "def displayResults(queryResult):\n",
    "    from IPython.core.display import display, HTML\n",
    "    HTMLResult = '<p>Number of results: ' + str(len(queryResult)) + '</p>'\n",
    "    HTMLResult = HTMLResult + '<table><tr style=\"color:white;background-color:#43BFC7;font-weight:bold\">'\n",
    "    # print variable names and build header:\n",
    "    for varName in queryResult.vars:\n",
    "        HTMLResult = HTMLResult + '<td>' + varName + '</td>'\n",
    "    HTMLResult = HTMLResult + '</tr>'\n",
    "    \n",
    "    # print values from each row and build table of results\n",
    "    for row in queryResult:\n",
    "        HTMLResult = HTMLResult + '<tr>'   \n",
    "        for column in row:\n",
    "            #print(\"COLUMN:\", column)\n",
    "            if column != \"\":\n",
    "                HTMLResult = HTMLResult + '<td>' +  str(column) + '</td>'\n",
    "            else:\n",
    "                HTMLResult = HTMLResult + '<td>' + \"N/A\"+ '</td>'\n",
    "        HTMLResult = HTMLResult + '</tr>'\n",
    "    HTMLResult = HTMLResult + '</table>'\n",
    "    display(HTML(HTMLResult))"
   ]
  },
  {
   "cell_type": "markdown",
   "metadata": {},
   "source": [
    "## Loading IDP-KG\n",
    "\n",
    "The data is read in from an N-QUADS file (`IDPKG.nq`). The data is expected to be in multiple named graphs, based on where the data was extracted from, with provenance data in the default graph."
   ]
  },
  {
   "cell_type": "code",
   "execution_count": 4,
   "metadata": {},
   "outputs": [],
   "source": [
    "idpKG = ConjunctiveGraph()\n",
    "idpKG.parse(\"IDPKG.nq\", format=\"nquads\")\n",
    "logging.info(\"\\tIDP-KG has %s statements.\" % len(idpKG))"
   ]
  },
  {
   "cell_type": "markdown",
   "metadata": {
    "tags": [],
    "toc-hr-collapsed": true
   },
   "source": [
    "## Knowledge Graph Statistics\n",
    "\n",
    "This section reports various statistics about the IDP-KG. The choice of statistics was inspired by the [HCLS Dataset Description Community Profile](https://www.w3.org/TR/hcls-dataset/#s6_6)."
   ]
  },
  {
   "cell_type": "markdown",
   "metadata": {},
   "source": [
    "### Number of Triples"
   ]
  },
  {
   "cell_type": "code",
   "execution_count": 5,
   "metadata": {},
   "outputs": [
    {
     "data": {
      "text/html": [
       "<p>Number of results: 1</p><table><tr style=\"color:white;background-color:#43BFC7;font-weight:bold\"><td>triples</td></tr><tr><td>650</td></tr></table>"
      ],
      "text/plain": [
       "<IPython.core.display.HTML object>"
      ]
     },
     "metadata": {},
     "output_type": "display_data"
    }
   ],
   "source": [
    "displayResults(idpKG.query(\"\"\"\n",
    "SELECT (COUNT(*) AS ?triples) \n",
    "WHERE {\n",
    "    GRAPH ?g {\n",
    "        ?s ?p ?o \n",
    "    }\n",
    "}\n",
    "\"\"\"))"
   ]
  },
  {
   "cell_type": "markdown",
   "metadata": {},
   "source": [
    "### Number of Typed Entities\n",
    "\n",
    "Note that we use the `DISTINCT` keyword in the query since the same entity can appear in multiple named graphs."
   ]
  },
  {
   "cell_type": "code",
   "execution_count": 6,
   "metadata": {},
   "outputs": [
    {
     "data": {
      "text/html": [
       "<p>Number of results: 1</p><table><tr style=\"color:white;background-color:#43BFC7;font-weight:bold\"><td>entities</td></tr><tr><td>147</td></tr></table>"
      ],
      "text/plain": [
       "<IPython.core.display.HTML object>"
      ]
     },
     "metadata": {},
     "output_type": "display_data"
    }
   ],
   "source": [
    "displayResults(idpKG.query(\"\"\"\n",
    "SELECT (COUNT(DISTINCT ?s) AS ?entities) \n",
    "WHERE { \n",
    "    GRAPH ?g { \n",
    "        ?s a [] \n",
    "    }\n",
    "}\n",
    "\"\"\"))"
   ]
  },
  {
   "cell_type": "markdown",
   "metadata": {},
   "source": [
    "### Number of Unique Subjects"
   ]
  },
  {
   "cell_type": "code",
   "execution_count": 7,
   "metadata": {},
   "outputs": [
    {
     "data": {
      "text/html": [
       "<p>Number of results: 1</p><table><tr style=\"color:white;background-color:#43BFC7;font-weight:bold\"><td>subjects</td></tr><tr><td>155</td></tr></table>"
      ],
      "text/plain": [
       "<IPython.core.display.HTML object>"
      ]
     },
     "metadata": {},
     "output_type": "display_data"
    }
   ],
   "source": [
    "displayResults(idpKG.query(\"\"\"\n",
    "SELECT (COUNT(DISTINCT ?s) AS ?subjects) \n",
    "WHERE { \n",
    "    GRAPH ?g { \n",
    "        ?s ?p ?o\n",
    "    }\n",
    "}\n",
    "\"\"\"))"
   ]
  },
  {
   "cell_type": "markdown",
   "metadata": {},
   "source": [
    "### Number of Unique Properties"
   ]
  },
  {
   "cell_type": "code",
   "execution_count": 8,
   "metadata": {},
   "outputs": [
    {
     "data": {
      "text/html": [
       "<p>Number of results: 1</p><table><tr style=\"color:white;background-color:#43BFC7;font-weight:bold\"><td>properties</td></tr><tr><td>20</td></tr></table>"
      ],
      "text/plain": [
       "<IPython.core.display.HTML object>"
      ]
     },
     "metadata": {},
     "output_type": "display_data"
    }
   ],
   "source": [
    "displayResults(idpKG.query(\"\"\"\n",
    "SELECT (COUNT(DISTINCT ?p) AS ?properties) \n",
    "WHERE { \n",
    "    GRAPH ?g { \n",
    "        ?s ?p ?o \n",
    "    }\n",
    "}\n",
    "\"\"\"))"
   ]
  },
  {
   "cell_type": "markdown",
   "metadata": {},
   "source": [
    "### Number of Unique Objects"
   ]
  },
  {
   "cell_type": "code",
   "execution_count": 9,
   "metadata": {},
   "outputs": [
    {
     "data": {
      "text/html": [
       "<p>Number of results: 1</p><table><tr style=\"color:white;background-color:#43BFC7;font-weight:bold\"><td>objects</td></tr><tr><td>174</td></tr></table>"
      ],
      "text/plain": [
       "<IPython.core.display.HTML object>"
      ]
     },
     "metadata": {},
     "output_type": "display_data"
    }
   ],
   "source": [
    "displayResults(idpKG.query(\"\"\"\n",
    "SELECT (COUNT(DISTINCT ?o) AS ?objects) \n",
    "WHERE { \n",
    "    GRAPH ?g { \n",
    "        ?s ?p ?o\n",
    "    }\n",
    "    FILTER(!isLiteral(?o))\n",
    "}\n",
    "\"\"\"))"
   ]
  },
  {
   "cell_type": "markdown",
   "metadata": {},
   "source": [
    "### Number of Unique Classes"
   ]
  },
  {
   "cell_type": "code",
   "execution_count": 10,
   "metadata": {},
   "outputs": [
    {
     "data": {
      "text/html": [
       "<p>Number of results: 1</p><table><tr style=\"color:white;background-color:#43BFC7;font-weight:bold\"><td>classes</td></tr><tr><td>5</td></tr></table>"
      ],
      "text/plain": [
       "<IPython.core.display.HTML object>"
      ]
     },
     "metadata": {},
     "output_type": "display_data"
    }
   ],
   "source": [
    "displayResults(idpKG.query(\"\"\"\n",
    "SELECT (COUNT(DISTINCT ?o) AS ?classes) \n",
    "WHERE { \n",
    "    GRAPH ?g { \n",
    "        ?s a ?o \n",
    "    }\n",
    "}\n",
    "\"\"\"))"
   ]
  },
  {
   "cell_type": "markdown",
   "metadata": {},
   "source": [
    "### Number of Unique Literals"
   ]
  },
  {
   "cell_type": "code",
   "execution_count": 11,
   "metadata": {},
   "outputs": [
    {
     "data": {
      "text/html": [
       "<p>Number of results: 1</p><table><tr style=\"color:white;background-color:#43BFC7;font-weight:bold\"><td>objects</td></tr><tr><td>115</td></tr></table>"
      ],
      "text/plain": [
       "<IPython.core.display.HTML object>"
      ]
     },
     "metadata": {},
     "output_type": "display_data"
    }
   ],
   "source": [
    "displayResults(idpKG.query(\"\"\"\n",
    "SELECT (COUNT(DISTINCT ?o) AS ?objects) \n",
    "WHERE { \n",
    "    GRAPH ?g { \n",
    "        ?s ?p ?o \n",
    "    }\n",
    "    FILTER(isLiteral(?o))\n",
    "}\n",
    "\"\"\"))"
   ]
  },
  {
   "cell_type": "markdown",
   "metadata": {},
   "source": [
    "### Number of Graphs"
   ]
  },
  {
   "cell_type": "code",
   "execution_count": 12,
   "metadata": {},
   "outputs": [
    {
     "data": {
      "text/html": [
       "<p>Number of results: 1</p><table><tr style=\"color:white;background-color:#43BFC7;font-weight:bold\"><td>graphs</td></tr><tr><td>9</td></tr></table>"
      ],
      "text/plain": [
       "<IPython.core.display.HTML object>"
      ]
     },
     "metadata": {},
     "output_type": "display_data"
    }
   ],
   "source": [
    "displayResults(idpKG.query(\"\"\"\n",
    "SELECT (COUNT(DISTINCT ?g) AS ?graphs) \n",
    "WHERE { \n",
    "  GRAPH ?g \n",
    "    { ?s ?p ?o }\n",
    "}\n",
    "\"\"\"))"
   ]
  },
  {
   "cell_type": "markdown",
   "metadata": {},
   "source": [
    "### Instances per Class"
   ]
  },
  {
   "cell_type": "code",
   "execution_count": 13,
   "metadata": {},
   "outputs": [
    {
     "data": {
      "text/html": [
       "<p>Number of results: 5</p><table><tr style=\"color:white;background-color:#43BFC7;font-weight:bold\"><td>Class</td><td>distinctInstances</td></tr><tr><td>https://schema.org/DefinedTerm</td><td>27</td></tr><tr><td>https://schema.org/PropertyValue</td><td>54</td></tr><tr><td>https://schema.org/Protein</td><td>8</td></tr><tr><td>https://schema.org/SequenceAnnotation</td><td>29</td></tr><tr><td>https://schema.org/SequenceRange</td><td>29</td></tr></table>"
      ],
      "text/plain": [
       "<IPython.core.display.HTML object>"
      ]
     },
     "metadata": {},
     "output_type": "display_data"
    }
   ],
   "source": [
    "displayResults(idpKG.query(\"\"\"\n",
    "PREFIX schema: <https://schema.org/>\n",
    "PREFIX pav: <http://purl.org/pav/>\n",
    "SELECT ?Class (COUNT(DISTINCT ?s) AS ?distinctInstances) \n",
    "WHERE {\n",
    "    GRAPH ?g {\n",
    "        ?s a ?Class\n",
    "    }\n",
    "} \n",
    "GROUP BY ?Class\n",
    "ORDER BY ?Class\n",
    "\"\"\"))"
   ]
  },
  {
   "cell_type": "markdown",
   "metadata": {},
   "source": [
    "### Properties and their Occurence"
   ]
  },
  {
   "cell_type": "code",
   "execution_count": 14,
   "metadata": {},
   "outputs": [
    {
     "data": {
      "text/html": [
       "<p>Number of results: 20</p><table><tr style=\"color:white;background-color:#43BFC7;font-weight:bold\"><td>p</td><td>triples</td></tr><tr><td>http://purl.org/pav/createdWith</td><td>8</td></tr><tr><td>http://purl.org/pav/retrievedFrom</td><td>8</td></tr><tr><td>http://purl.org/pav/retrievedOn</td><td>8</td></tr><tr><td>http://rdfs.org/ns/void#inDataset</td><td>8</td></tr><tr><td>http://www.w3.org/1999/02/22-rdf-syntax-ns#type</td><td>156</td></tr><tr><td>http://www.w3.org/2002/07/owl#sameAs</td><td>11</td></tr><tr><td>https://schema.org/additionalProperty</td><td>54</td></tr><tr><td>https://schema.org/description</td><td>3</td></tr><tr><td>https://schema.org/hasBioPolymerSequence</td><td>13</td></tr><tr><td>https://schema.org/hasSequenceAnnotation</td><td>32</td></tr><tr><td>https://schema.org/identifier</td><td>11</td></tr><tr><td>https://schema.org/inDefinedTermSet</td><td>35</td></tr><tr><td>https://schema.org/name</td><td>98</td></tr><tr><td>https://schema.org/rangeEnd</td><td>29</td></tr><tr><td>https://schema.org/rangeStart</td><td>29</td></tr><tr><td>https://schema.org/sameAs</td><td>24</td></tr><tr><td>https://schema.org/sequenceLocation</td><td>29</td></tr><tr><td>https://schema.org/taxonomicRange</td><td>5</td></tr><tr><td>https://schema.org/termCode</td><td>35</td></tr><tr><td>https://schema.org/value</td><td>54</td></tr></table>"
      ],
      "text/plain": [
       "<IPython.core.display.HTML object>"
      ]
     },
     "metadata": {},
     "output_type": "display_data"
    }
   ],
   "source": [
    "displayResults(idpKG.query(\"\"\"\n",
    "PREFIX schema: <https://schema.org/>\n",
    "PREFIX pav: <http://purl.org/pav/>\n",
    "SELECT ?p (COUNT(?p) AS ?triples) \n",
    "WHERE {\n",
    "    GRAPH ?g {\n",
    "        ?s ?p ?o\n",
    "    }\n",
    "} \n",
    "GROUP BY ?p\n",
    "ORDER BY ?p\n",
    "\"\"\"))"
   ]
  },
  {
   "cell_type": "markdown",
   "metadata": {},
   "source": [
    "### Property, number of unique typed subjects, and triples"
   ]
  },
  {
   "cell_type": "code",
   "execution_count": 15,
   "metadata": {},
   "outputs": [
    {
     "data": {
      "text/html": [
       "<p>Number of results: 22</p><table><tr style=\"color:white;background-color:#43BFC7;font-weight:bold\"><td>scount</td><td>stype</td><td>p</td><td>triples</td></tr><tr><td>27</td><td>https://schema.org/DefinedTerm</td><td>http://www.w3.org/1999/02/22-rdf-syntax-ns#type</td><td>35</td></tr><tr><td>27</td><td>https://schema.org/DefinedTerm</td><td>https://schema.org/inDefinedTermSet</td><td>35</td></tr><tr><td>27</td><td>https://schema.org/DefinedTerm</td><td>https://schema.org/name</td><td>35</td></tr><tr><td>27</td><td>https://schema.org/DefinedTerm</td><td>https://schema.org/termCode</td><td>35</td></tr><tr><td>54</td><td>https://schema.org/PropertyValue</td><td>http://www.w3.org/1999/02/22-rdf-syntax-ns#type</td><td>54</td></tr><tr><td>54</td><td>https://schema.org/PropertyValue</td><td>https://schema.org/name</td><td>54</td></tr><tr><td>54</td><td>https://schema.org/PropertyValue</td><td>https://schema.org/value</td><td>54</td></tr><tr><td>8</td><td>https://schema.org/Protein</td><td>http://www.w3.org/1999/02/22-rdf-syntax-ns#type</td><td>9</td></tr><tr><td>8</td><td>https://schema.org/Protein</td><td>http://www.w3.org/2002/07/owl#sameAs</td><td>11</td></tr><tr><td>8</td><td>https://schema.org/Protein</td><td>https://schema.org/hasBioPolymerSequence</td><td>13</td></tr><tr><td>8</td><td>https://schema.org/Protein</td><td>https://schema.org/hasSequenceAnnotation</td><td>32</td></tr><tr><td>8</td><td>https://schema.org/Protein</td><td>https://schema.org/identifier</td><td>11</td></tr><tr><td>8</td><td>https://schema.org/Protein</td><td>https://schema.org/name</td><td>9</td></tr><tr><td>8</td><td>https://schema.org/Protein</td><td>https://schema.org/sameAs</td><td>24</td></tr><tr><td>4</td><td>https://schema.org/Protein</td><td>https://schema.org/taxonomicRange</td><td>5</td></tr><tr><td>29</td><td>https://schema.org/SequenceAnnotation</td><td>http://www.w3.org/1999/02/22-rdf-syntax-ns#type</td><td>29</td></tr><tr><td>29</td><td>https://schema.org/SequenceAnnotation</td><td>https://schema.org/additionalProperty</td><td>54</td></tr><tr><td>3</td><td>https://schema.org/SequenceAnnotation</td><td>https://schema.org/description</td><td>3</td></tr><tr><td>29</td><td>https://schema.org/SequenceAnnotation</td><td>https://schema.org/sequenceLocation</td><td>29</td></tr><tr><td>29</td><td>https://schema.org/SequenceRange</td><td>http://www.w3.org/1999/02/22-rdf-syntax-ns#type</td><td>29</td></tr><tr><td>29</td><td>https://schema.org/SequenceRange</td><td>https://schema.org/rangeEnd</td><td>29</td></tr><tr><td>29</td><td>https://schema.org/SequenceRange</td><td>https://schema.org/rangeStart</td><td>29</td></tr></table>"
      ],
      "text/plain": [
       "<IPython.core.display.HTML object>"
      ]
     },
     "metadata": {},
     "output_type": "display_data"
    }
   ],
   "source": [
    "displayResults(idpKG.query(\"\"\"\n",
    "PREFIX schema: <https://schema.org/>\n",
    "PREFIX pav: <http://purl.org/pav/>\n",
    "SELECT (COUNT(DISTINCT ?s) AS ?scount) ?stype ?p (COUNT(?p) AS ?triples) \n",
    "WHERE {\n",
    "    GRAPH ?g {\n",
    "        ?s ?p ?o .\n",
    "        ?s a ?stype \n",
    "    }\n",
    "} \n",
    "GROUP BY ?p ?stype\n",
    "ORDER BY ?stype ?p\n",
    "\"\"\"))"
   ]
  },
  {
   "cell_type": "markdown",
   "metadata": {},
   "source": [
    "### Number of Unique Typed Objects Linked to a Property"
   ]
  },
  {
   "cell_type": "code",
   "execution_count": 16,
   "metadata": {},
   "outputs": [
    {
     "data": {
      "text/html": [
       "<p>Number of results: 4</p><table><tr style=\"color:white;background-color:#43BFC7;font-weight:bold\"><td>p</td><td>triples</td><td>otype</td><td>count</td></tr><tr><td>https://schema.org/additionalProperty</td><td>54</td><td>https://schema.org/PropertyValue</td><td>54</td></tr><tr><td>https://schema.org/hasSequenceAnnotation</td><td>32</td><td>https://schema.org/SequenceAnnotation</td><td>29</td></tr><tr><td>https://schema.org/sequenceLocation</td><td>29</td><td>https://schema.org/SequenceRange</td><td>29</td></tr><tr><td>https://schema.org/value</td><td>54</td><td>https://schema.org/DefinedTerm</td><td>27</td></tr></table>"
      ],
      "text/plain": [
       "<IPython.core.display.HTML object>"
      ]
     },
     "metadata": {},
     "output_type": "display_data"
    }
   ],
   "source": [
    "displayResults(idpKG.query(\"\"\"\n",
    "PREFIX schema: <https://schema.org/>\n",
    "PREFIX pav: <http://purl.org/pav/>\n",
    "SELECT ?p (COUNT(?p) AS ?triples) ?otype (COUNT(DISTINCT ?o) AS ?count)\n",
    "WHERE {\n",
    "    GRAPH ?g {\n",
    "        ?s ?p ?o .\n",
    "        ?o a ?otype\n",
    "    }\n",
    "} \n",
    "GROUP BY ?p ?otype\n",
    "ORDER BY ?p\n",
    "\"\"\"))"
   ]
  },
  {
   "cell_type": "markdown",
   "metadata": {},
   "source": [
    "### Triples and Number of Unique Literals Related to a Property"
   ]
  },
  {
   "cell_type": "code",
   "execution_count": 17,
   "metadata": {},
   "outputs": [
    {
     "data": {
      "text/html": [
       "<p>Number of results: 9</p><table><tr style=\"color:white;background-color:#43BFC7;font-weight:bold\"><td>p</td><td>triples</td><td>literals</td></tr><tr><td>http://purl.org/pav/retrievedOn</td><td>8</td><td>8</td></tr><tr><td>http://rdfs.org/ns/void#inDataset</td><td>6</td><td>2</td></tr><tr><td>https://schema.org/description</td><td>3</td><td>1</td></tr><tr><td>https://schema.org/hasBioPolymerSequence</td><td>13</td><td>9</td></tr><tr><td>https://schema.org/identifier</td><td>11</td><td>9</td></tr><tr><td>https://schema.org/name</td><td>98</td><td>34</td></tr><tr><td>https://schema.org/rangeEnd</td><td>29</td><td>15</td></tr><tr><td>https://schema.org/rangeStart</td><td>29</td><td>11</td></tr><tr><td>https://schema.org/termCode</td><td>35</td><td>27</td></tr></table>"
      ],
      "text/plain": [
       "<IPython.core.display.HTML object>"
      ]
     },
     "metadata": {},
     "output_type": "display_data"
    }
   ],
   "source": [
    "displayResults(idpKG.query(\"\"\"\n",
    "PREFIX schema: <https://schema.org/>\n",
    "PREFIX pav: <http://purl.org/pav/>\n",
    "SELECT ?p (COUNT(?p) AS ?triples) (COUNT(DISTINCT ?o) AS ?literals)\n",
    "WHERE {\n",
    "    GRAPH ?g {\n",
    "        ?s ?p ?o\n",
    "    }\n",
    "    FILTER (isLiteral(?o))\n",
    "} \n",
    "GROUP BY ?p\n",
    "ORDER BY ?p\n",
    "\"\"\"))"
   ]
  },
  {
   "cell_type": "markdown",
   "metadata": {},
   "source": [
    "### Number of Unique Subject Types Linked to Unique Object Types"
   ]
  },
  {
   "cell_type": "code",
   "execution_count": 18,
   "metadata": {},
   "outputs": [
    {
     "data": {
      "text/html": [
       "<p>Number of results: 4</p><table><tr style=\"color:white;background-color:#43BFC7;font-weight:bold\"><td>scount</td><td>stype</td><td>p</td><td>otype</td><td>ocount</td></tr><tr><td>29</td><td>https://schema.org/SequenceAnnotation</td><td>https://schema.org/additionalProperty</td><td>https://schema.org/PropertyValue</td><td>54</td></tr><tr><td>8</td><td>https://schema.org/Protein</td><td>https://schema.org/hasSequenceAnnotation</td><td>https://schema.org/SequenceAnnotation</td><td>29</td></tr><tr><td>29</td><td>https://schema.org/SequenceAnnotation</td><td>https://schema.org/sequenceLocation</td><td>https://schema.org/SequenceRange</td><td>29</td></tr><tr><td>54</td><td>https://schema.org/PropertyValue</td><td>https://schema.org/value</td><td>https://schema.org/DefinedTerm</td><td>27</td></tr></table>"
      ],
      "text/plain": [
       "<IPython.core.display.HTML object>"
      ]
     },
     "metadata": {},
     "output_type": "display_data"
    }
   ],
   "source": [
    "displayResults(idpKG.query(\"\"\"\n",
    "PREFIX schema: <https://schema.org/>\n",
    "PREFIX pav: <http://purl.org/pav/>\n",
    "SELECT (COUNT(DISTINCT ?s) AS ?scount) ?stype ?p ?otype (COUNT(DISTINCT ?o) AS ?ocount)\n",
    "WHERE {\n",
    "    GRAPH ?g {\n",
    "        ?s ?p ?o .\n",
    "        ?s a ?stype .\n",
    "        ?o a ?otype .\n",
    "    }\n",
    "} \n",
    "GROUP BY ?p ?stype ?otype\n",
    "ORDER BY ?p\n",
    "\"\"\"))"
   ]
  },
  {
   "cell_type": "markdown",
   "metadata": {
    "tags": []
   },
   "source": [
    "## Data Content Statistics\n",
    "\n",
    "The previous section gave generic dataset statistics. We will now focus on information about the data content that is of interest to the IDP community."
   ]
  },
  {
   "cell_type": "markdown",
   "metadata": {},
   "source": [
    "### Number of Distinct Proteins\n",
    "Retrieve the number of distinct proteins in the IDP-KG.\n",
    "\n",
    "_Note that a protein can be present in multiple datasets._"
   ]
  },
  {
   "cell_type": "code",
   "execution_count": 19,
   "metadata": {},
   "outputs": [
    {
     "data": {
      "text/html": [
       "<p>Number of results: 1</p><table><tr style=\"color:white;background-color:#43BFC7;font-weight:bold\"><td>Proteins</td></tr><tr><td>8</td></tr></table>"
      ],
      "text/plain": [
       "<IPython.core.display.HTML object>"
      ]
     },
     "metadata": {},
     "output_type": "display_data"
    }
   ],
   "source": [
    "displayResults(idpKG.query(\"\"\"\n",
    "PREFIX schema: <https://schema.org/>\n",
    "PREFIX pav: <http://purl.org/pav/>\n",
    "SELECT (COUNT(DISTINCT ?s) AS ?Proteins) \n",
    "WHERE {\n",
    "    GRAPH ?g {\n",
    "        ?s a schema:Protein\n",
    "    }\n",
    "} \n",
    "\"\"\"))"
   ]
  },
  {
   "cell_type": "markdown",
   "metadata": {
    "tags": []
   },
   "source": [
    "## Analysis of Proteins\n",
    "\n",
    "The queries in this section focus on the proteins contained in the Knowledge Graph."
   ]
  },
  {
   "cell_type": "markdown",
   "metadata": {},
   "source": [
    "### Proteins per Dataset\n",
    "\n",
    "Display the number of proteins per dataset"
   ]
  },
  {
   "cell_type": "code",
   "execution_count": 20,
   "metadata": {},
   "outputs": [
    {
     "data": {
      "text/html": [
       "<p>Number of results: 3</p><table><tr style=\"color:white;background-color:#43BFC7;font-weight:bold\"><td>dataset</td><td>Proteins</td></tr><tr><td>https://disprot.org/#2020-12</td><td>3</td></tr><tr><td>https://mobidb.org/#2020-09</td><td>2</td></tr><tr><td>https://proteinensemble.org/#2021-02-12</td><td>4</td></tr></table>"
      ],
      "text/plain": [
       "<IPython.core.display.HTML object>"
      ]
     },
     "metadata": {},
     "output_type": "display_data"
    }
   ],
   "source": [
    "displayResults(idpKG.query(\"\"\"\n",
    "PREFIX schema: <https://schema.org/>\n",
    "PREFIX pav: <http://purl.org/pav/>\n",
    "PREFIX void: <http://rdfs.org/ns/void#>\n",
    "\n",
    "SELECT ?dataset (COUNT(DISTINCT ?s) AS ?Proteins) \n",
    "WHERE {\n",
    "    GRAPH ?g {\n",
    "        ?s a schema:Protein\n",
    "    }\n",
    "    ?g void:inDataset ?dataset\n",
    "} \n",
    "GROUP BY ?dataset\n",
    "\"\"\"))"
   ]
  },
  {
   "cell_type": "markdown",
   "metadata": {},
   "source": [
    "### Proteins from Multiple Datasets\n",
    "\n",
    "A protein comes from multiple sources if the triple is found in multiple named graphs. The number of named graphs containing the triple indicates the number of sources containing the triple."
   ]
  },
  {
   "cell_type": "code",
   "execution_count": 21,
   "metadata": {},
   "outputs": [
    {
     "data": {
      "text/html": [
       "<p>Number of results: 1</p><table><tr style=\"color:white;background-color:#43BFC7;font-weight:bold\"><td>protein</td><td>numDatasets</td><td>datasets</td></tr><tr><td>https://bioschemas.org/entity/P03265</td><td>2</td><td>https://disprot.org/#2020-12, https://mobidb.org/#2020-09</td></tr></table>"
      ],
      "text/plain": [
       "<IPython.core.display.HTML object>"
      ]
     },
     "metadata": {},
     "output_type": "display_data"
    }
   ],
   "source": [
    "displayResults(idpKG.query(\"\"\"\n",
    "PREFIX schema: <https://schema.org/>\n",
    "PREFIX pav: <http://purl.org/pav/>\n",
    "PREFIX void: <http://rdfs.org/ns/void#>\n",
    "\n",
    "SELECT ?protein (COUNT(?g) as ?numDatasets) (GROUP_CONCAT(?dataset;SEPARATOR=\", \") AS ?datasets)\n",
    "WHERE {\n",
    "    GRAPH ?g {\n",
    "        ?protein a schema:Protein .\n",
    "    }\n",
    "    ?g void:inDataset ?dataset .\n",
    "}\n",
    "GROUP BY ?protein\n",
    "HAVING (COUNT(*) > 1)\n",
    "ORDER BY ?numDatasets\n",
    "\"\"\"))"
   ]
  },
  {
   "cell_type": "markdown",
   "metadata": {},
   "source": [
    "### Proteins from Multiple Pages\n",
    "\n",
    "A protein comes from multiple pages (sources) if the triple is found in multiple named graphs. The number of named graphs containing the triple indicates the number of sources containing the triple.\n",
    "\n",
    "_Note that a protein can come from multiple pages within the same dataset._"
   ]
  },
  {
   "cell_type": "code",
   "execution_count": 22,
   "metadata": {},
   "outputs": [
    {
     "data": {
      "text/html": [
       "<p>Number of results: 1</p><table><tr style=\"color:white;background-color:#43BFC7;font-weight:bold\"><td>protein</td><td>numSources</td><td>sources</td></tr><tr><td>https://bioschemas.org/entity/P03265</td><td>2</td><td>https://disprot.org/DP00003, https://mobidb.org/P03265</td></tr></table>"
      ],
      "text/plain": [
       "<IPython.core.display.HTML object>"
      ]
     },
     "metadata": {},
     "output_type": "display_data"
    }
   ],
   "source": [
    "displayResults(idpKG.query(\"\"\"\n",
    "PREFIX schema: <https://schema.org/>\n",
    "PREFIX pav: <http://purl.org/pav/>\n",
    "SELECT ?protein (COUNT(?g) as ?numSources) (GROUP_CONCAT(?source;SEPARATOR=\", \") AS ?sources)\n",
    "WHERE {\n",
    "    GRAPH ?g {\n",
    "        ?protein a schema:Protein .\n",
    "    }\n",
    "    ?g pav:retrievedFrom ?source .\n",
    "}\n",
    "GROUP BY ?protein\n",
    "HAVING (COUNT(*) > 1)\n",
    "ORDER BY ?numSources\n",
    "\"\"\"))"
   ]
  },
  {
   "cell_type": "markdown",
   "metadata": {},
   "source": [
    "### Minimal Protein Information\n",
    "\n",
    "Retreive a minimal amount of information about the proteins."
   ]
  },
  {
   "cell_type": "code",
   "execution_count": 23,
   "metadata": {},
   "outputs": [
    {
     "data": {
      "text/html": [
       "<p>Number of results: 8</p><table><tr style=\"color:white;background-color:#43BFC7;font-weight:bold\"><td>s</td><td>name</td><td>description</td><td>identifiers</td><td>associatedDisease</td><td>encodedBy</td><td>taxonomicRange</td><td>sameAs</td><td>sources</td><td>datasets</td></tr><tr><td>https://bioschemas.org/entity/P49913</td><td>Cathelicidin antimicrobial peptide</td><td>None</td><td>https://identifiers.org/disprot:DP00004</td><td>None</td><td>None</td><td>https://bioschemas.org/crawl/v1/disprot/DP00004/20210813/8/disprot.org/DP00004/1514688226</td><td>https://disprot.org/DP00004,<br/>http://purl.uniprot.org/uniprot/P49913</td><td>https://disprot.org/DP00004</td><td>https://disprot.org/#2020-12</td></tr><tr><td>https://bioschemas.org/entity/P03265</td><td>DNA-binding protein</td><td>None</td><td>https://identifiers.org/disprot:DP00003,<br/>https://identifiers.org/mobidb:P03265</td><td>None</td><td>None</td><td>https://bioschemas.org/crawl/v1/disprot/DP00003/20210813/7/disprot.org/DP00003/47171403</td><td>http://purl.uniprot.org/uniprot/P03265,<br/>https://disprot.org/DP00003,<br/>https://mobidb.org/P03265</td><td>https://disprot.org/DP00003,<br/>https://mobidb.org/P03265</td><td>https://disprot.org/#2020-12,<br/>https://mobidb.org/#2020-09</td></tr><tr><td>https://bioschemas.org/entity/P38634</td><td>Protein SIC1</td><td>None</td><td>https://identifiers.org/uniprot:P38634</td><td>None</td><td>None</td><td>None</td><td>http://purl.uniprot.org/uniprot/P38634,<br/>https://proteinensemble.org/PED00001#P38634_A_1</td><td>https://proteinensemble.org/PED00001</td><td>https://proteinensemble.org/#2021-02-12</td></tr><tr><td>https://bioschemas.org/entity/Q12959</td><td>Disks large homolog 1</td><td>None</td><td>https://identifiers.org/mobidb:Q12959</td><td>None</td><td>None</td><td>https://identifiers.org/taxonomy:9606</td><td>http://purl.uniprot.org/uniprot/Q12959,<br/>https://mobidb.org/Q12959</td><td>https://mobidb.org/Q12959</td><td>https://mobidb.org/#2020-09</td></tr><tr><td>https://bioschemas.org/entity/P06400</td><td>Retinoblastoma-associated protein</td><td>None</td><td>https://identifiers.org/uniprot:P06400,<br/>https://identifiers.org/uniprot:P03255</td><td>None</td><td>None</td><td>None</td><td>https://proteinensemble.org/PED00174#P06400_A_1,<br/>https://proteinensemble.org/PED00174#P03255_B_1,<br/>http://purl.uniprot.org/uniprot/P03255,<br/>http://purl.uniprot.org/uniprot/P06400,<br/>https://proteinensemble.org/PED00174#P06400_A_0</td><td>https://proteinensemble.org/PED00174</td><td>https://proteinensemble.org/#2021-02-12</td></tr><tr><td>https://bioschemas.org/entity/P03255</td><td>Retinoblastoma-associated protein</td><td>None</td><td>https://identifiers.org/uniprot:P06400,<br/>https://identifiers.org/uniprot:P03255</td><td>None</td><td>None</td><td>None</td><td>http://purl.uniprot.org/uniprot/P03255,<br/>https://proteinensemble.org/PED00174#P06400_A_0,<br/>https://proteinensemble.org/PED00174#P06400_A_1,<br/>https://proteinensemble.org/PED00174#P03255_B_1,<br/>http://purl.uniprot.org/uniprot/P06400</td><td>https://proteinensemble.org/PED00174</td><td>https://proteinensemble.org/#2021-02-12</td></tr><tr><td>https://bioschemas.org/entity/P52292</td><td>Importin subunit alpha-1</td><td>None</td><td>https://identifiers.org/uniprot:P52292</td><td>None</td><td>None</td><td>None</td><td>https://proteinensemble.org/PED00148#P52292_A_0,<br/>http://purl.uniprot.org/uniprot/P52292</td><td>https://proteinensemble.org/PED00148</td><td>https://proteinensemble.org/#2021-02-12</td></tr><tr><td>https://bioschemas.org/entity/P03045</td><td>Antitermination protein N</td><td>None</td><td>https://identifiers.org/disprot:DP00005</td><td>None</td><td>None</td><td>https://bioschemas.org/crawl/v1/disprot/DP00005/20210813/9/disprot.org/DP00005/2033189699</td><td>https://disprot.org/DP00005,<br/>http://purl.uniprot.org/uniprot/P03045</td><td>https://disprot.org/DP00005</td><td>https://disprot.org/#2020-12</td></tr></table>"
      ],
      "text/plain": [
       "<IPython.core.display.HTML object>"
      ]
     },
     "metadata": {},
     "output_type": "display_data"
    }
   ],
   "source": [
    "displayResults(idpKG.query(\"\"\"\n",
    "PREFIX schema: <https://schema.org/>\n",
    "PREFIX pav: <http://purl.org/pav/>\n",
    "PREFIX void: <http://rdfs.org/ns/void#>\n",
    "\n",
    "SELECT  ?s ?name ?description\n",
    "    (GROUP_CONCAT(DISTINCT ?identifier;SEPARATOR=',<br/>') AS ?identifiers)\n",
    "    ?associatedDisease\n",
    "    ?encodedBy\n",
    "    ?taxonomicRange\n",
    "    (GROUP_CONCAT(DISTINCT ?sameAs;SEPARATOR=',<br/>') AS ?sameAs)\n",
    "    (GROUP_CONCAT(DISTINCT ?source;SEPARATOR=',<br/>') AS ?sources)\n",
    "    (GROUP_CONCAT(DISTINCT ?dataset;SEPARATOR=',<br/>') AS ?datasets)\n",
    "WHERE {\n",
    "    GRAPH ?g {\n",
    "# Bioschemas Minimal Properties\n",
    "        ?s a schema:Protein .\n",
    "        OPTIONAL {?s schema:identifier ?identifier }\n",
    "        OPTIONAL {?s schema:name ?name }\n",
    "## Bioschemas Recommended properties\n",
    "        OPTIONAL {?s schema:associatedDisease ?associatedDisease}\n",
    "        OPTIONAL {?s schema:description ?description}\n",
    "        OPTIONAL {?s schema:isEncodedByBioChemEntity ?encodedBy}\n",
    "        OPTIONAL {?s schema:taxonomicRange ?taxonomicRange }\n",
    "        OPTIONAL {?s schema:url ?url}\n",
    "        OPTIONAL {?s schema:sameAs ?sameAs }\n",
    "    }\n",
    "    ?g pav:retrievedFrom ?source\n",
    "    OPTIONAL {?g void:inDataset ?dataset}\n",
    "}\n",
    "GROUP BY ?s\n",
    "\"\"\"))"
   ]
  },
  {
   "cell_type": "markdown",
   "metadata": {},
   "source": [
    "### Full Protein Information\n",
    "\n",
    "Retrieve basic information about the proteins in the knowledge graph."
   ]
  },
  {
   "cell_type": "code",
   "execution_count": 24,
   "metadata": {},
   "outputs": [
    {
     "data": {
      "text/html": [
       "<p>Number of results: 8</p><table><tr style=\"color:white;background-color:#43BFC7;font-weight:bold\"><td>s</td><td>name</td><td>description</td><td>identifiers</td><td>associatedDisease</td><td>annotations</td><td>encodedBy</td><td>taxonomicRange</td><td>url</td><td>alternateName</td><td>bioChemInteraction</td><td>bioChemSimilarity</td><td>bioChemEntity</td><td>sequences</td><td>molFunction</td><td>representation</td><td>image</td><td>process</td><td>cellularLocation</td><td>parentEntity</td><td>sameAs</td><td>sources</td><td>datasets</td></tr><tr><td>https://bioschemas.org/entity/P49913</td><td>Cathelicidin antimicrobial peptide</td><td>None</td><td>https://identifiers.org/disprot:DP00004</td><td>None</td><td>https://disprot.org/DP00004r001,<br/>https://disprot.org/DP00004r002,<br/>https://disprot.org/DP00004r004</td><td>None</td><td>https://bioschemas.org/crawl/v1/disprot/DP00004/20210813/8/disprot.org/DP00004/1514688226</td><td>None</td><td>None</td><td>None</td><td>None</td><td>None</td><td>MKTQRDGHSLGRWSLVLLLLGLVMPLAIIAQVLSYKEAVLRAIDGINQRSSDANLYRLLDLDPRPTMDGDPDTPKPVSFTVKETVCPRTTQQSPEDCDFKKDGLVKRCMGTVTLNQARGSFDISCDKDNKRFALLGDFFRKSKEKIGKEFKRIVQRIKDFLRNLVPRTES</td><td>None</td><td>None</td><td>None</td><td>None</td><td>None</td><td>None</td><td>https://disprot.org/DP00004,<br/>http://purl.uniprot.org/uniprot/P49913</td><td>https://disprot.org/DP00004</td><td>https://disprot.org/#2020-12</td></tr><tr><td>https://bioschemas.org/entity/P03265</td><td>DNA-binding protein</td><td>None</td><td>https://identifiers.org/disprot:DP00003,<br/>https://identifiers.org/mobidb:P03265</td><td>None</td><td>https://disprot.org/DP00003r002,<br/>https://disprot.org/DP00003r004,<br/>https://mobidb.org/P03265#prediction-disorder-mobidb_lite.1_108,<br/>https://mobidb.org/P03265#prediction-disorder-mobidb_lite.125_166</td><td>None</td><td>https://bioschemas.org/crawl/v1/disprot/DP00003/20210813/7/disprot.org/DP00003/47171403</td><td>None</td><td>None</td><td>None</td><td>None</td><td>None</td><td>MASREEEQRETTPERGRGAARRPPTMEDVSSPSPSPPPPRAPPKKRMRRRIESEDEEDSSQDALVPRTPSPRPSTSAADLAIAPKKKKKRPSPKPERPPSPEVIVDSEEEREDVALQMVGFSNPPVLIKHGKGGKRTVRRLNEDDPVARGMRTQEEEEEPSEAESEITVMNPLSVPIVSAWEKGMEAARALMDKYHVDNDLKANFKLLPDQVEALAAVCKTWLNEEHRGLQLTFTSKKTFVTMMGRFLQAYLQSFAEVTYKHHEPTGCALWLHRCAEIEGELKCLHGSIMINKEHVIEMDVTSENGQRALKEQSSKAKIVKNRWGRNVVQISNTDARCCVHDAACPANQFSGKSCGMFFSEGAKAQVAFKQIKAFMQALYPNAQTGHGHLLMPLRCECNSKPGHAPFLGRQLPKLTPFALSNAEDLDADLISDKSVLASVHHPALIVFQCCNPVYRNSRAQGGGPNCDFKISAPDLLNALVMVRSLWSENFTELPRMVVPEFKWSTKHQYRNVSLPVAHSDARQNPFDF</td><td>None</td><td>None</td><td>None</td><td>None</td><td>None</td><td>None</td><td>http://purl.uniprot.org/uniprot/P03265,<br/>https://disprot.org/DP00003,<br/>https://mobidb.org/P03265</td><td>https://disprot.org/DP00003,<br/>https://mobidb.org/P03265</td><td>https://disprot.org/#2020-12,<br/>https://mobidb.org/#2020-09</td></tr><tr><td>https://bioschemas.org/entity/P38634</td><td>Protein SIC1</td><td>None</td><td>https://identifiers.org/uniprot:P38634</td><td>None</td><td>https://proteinensemble.org/PED00001#P38634_A_1_1_90</td><td>None</td><td>None</td><td>None</td><td>None</td><td>None</td><td>None</td><td>None</td><td>MTPSTPPRSRGTRYLAQPSGNTSSSALMQGQKTPQKPSQNLVPVTPSTTKSFKNAPLLAPPNSNMGMTSPFNGLTSPQRSPFPKSSVKRT</td><td>None</td><td>None</td><td>None</td><td>None</td><td>None</td><td>None</td><td>http://purl.uniprot.org/uniprot/P38634,<br/>https://proteinensemble.org/PED00001#P38634_A_1</td><td>https://proteinensemble.org/PED00001</td><td>https://proteinensemble.org/#2021-02-12</td></tr><tr><td>https://bioschemas.org/entity/Q12959</td><td>Disks large homolog 1</td><td>None</td><td>https://identifiers.org/mobidb:Q12959</td><td>None</td><td>https://mobidb.org/Q12959#prediction-disorder-mobidb_lite.662_696</td><td>None</td><td>https://identifiers.org/taxonomy:9606</td><td>None</td><td>None</td><td>None</td><td>None</td><td>None</td><td>MPVRKQDTQRALHLLEEYRSKLSQTEDRQLRSSIERVINIFQSNLFQALIDIQEFYEVTLLDNPKCIDRSKPSEPIQPVNTWEISSLPSSTVTSETLPSSLSPSVEKYRYQDEDTPPQEHISPQITNEVIGPELVHVSEKNLSEIENVHGFVSHSHISPIKPTEAVLPSPPTVPVIPVLPVPAENTVILPTIPQANPPPVLVNTDSLETPTYVNGTDADYEYEEITLERGNSGLGFSIAGGTDNPHIGDDSSIFITKIITGGAAAQDGRLRVNDCILRVNEVDVRDVTHSKAVEALKEAGSIVRLYVKRRKPVSEKIMEIKLIKGPKGLGFSIAGGVGNQHIPGDNSIYVTKIIEGGAAHKDGKLQIGDKLLAVNNVCLEEVTHEEAVTALKNTSDFVYLKVAKPTSMYMNDGYAPPDITNSSSQPVDNHVSPSSFLGQTPASPARYSPVSKAVLGDDEITREPRKVVLHRGSTGLGFNIVGGEDGEGIFISFILAGGPADLSGELRKGDRIISVNSVDLRAASHEQAAAALKNAGQAVTIVAQYRPEEYSRFEAKIHDLREQMMNSSISSGSGSLRTSQKRSLYVRALFDYDKTKDSGLPSQGLNFKFGDILHVINASDDEWWQARQVTPDGESDEVGVIPSKRRVEKKERARLKTVKFNSKTRDKGEIPDDMGSKGLKHVTSNASDSESSYRGQEEYVLSYEPVNQQEVNYTRPVIILGPMKDRINDDLISEFPDKFGSCVPHTTRPKRDYEVDGRDYHFVTSREQMEKDIQEHKFIEAGQYNNHLYGTSVQSVREVAEKGKHCILDVSGNAIKRLQIAQLYPISIFIKPKSMENIMEMNKRLTEEQARKTFERAMKLEQEFTEHFTAIVQGDTLEDIYNQVKQIIEEQSGSYIWVPAKEKL</td><td>None</td><td>None</td><td>None</td><td>None</td><td>None</td><td>None</td><td>http://purl.uniprot.org/uniprot/Q12959,<br/>https://mobidb.org/Q12959</td><td>https://mobidb.org/Q12959</td><td>https://mobidb.org/#2020-09</td></tr><tr><td>https://bioschemas.org/entity/P06400</td><td>Retinoblastoma-associated protein</td><td>None</td><td>https://identifiers.org/uniprot:P06400,<br/>https://identifiers.org/uniprot:P03255</td><td>None</td><td>https://proteinensemble.org/PED00174#P06400_A_0_372_581,<br/>https://proteinensemble.org/PED00174#P06400_A_1_643_787,<br/>https://proteinensemble.org/PED00174#P03255_B_1_36_146</td><td>None</td><td>None</td><td>None</td><td>None</td><td>None</td><td>None</td><td>None</td><td>SHFEPPTLHELYDLDVTAPEDPNEEAVSQIFPDSVMLAVQEGIDLLTFPPAPGSPEPPHLSRQPEQPEQRALGPVSMPNLVPEVIDLTCHEAGFPPSDDEDEEGEEFVLDY,<br/>KSTSLSLFYKKVYRLAYLRLNTLCERLLSEHPELEHIIWTLFQHTLQNEYELMRDRHLDQIMMCSMYGICKVKNIDLKFKIIVTAYKDLPHAVQETFKRVLIKEEEYDSIIVFYNSVFMQRLKTNILQYASTRPPTLSPIPHIPR,<br/>HTPVRTVMNTIQQLMMILNSASDQPSENLISYFNNCTVNPKESILKRVKDIGYIFKEKFAKAVGQGCVEIGSQRYKLGVRLYYRVMESMLKSEEERLSIQNFSKLLNDNIFHMSLLACALEVVMATYSRSTSQNLDSGTDLSFPWILNVLNLKAFDFYKVIESFIKAEGNLTREMIKHLERCEHRIMESLAWLSDSPLFDLIKQSKDREG</td><td>None</td><td>None</td><td>None</td><td>None</td><td>None</td><td>None</td><td>https://proteinensemble.org/PED00174#P06400_A_1,<br/>https://proteinensemble.org/PED00174#P03255_B_1,<br/>http://purl.uniprot.org/uniprot/P03255,<br/>http://purl.uniprot.org/uniprot/P06400,<br/>https://proteinensemble.org/PED00174#P06400_A_0</td><td>https://proteinensemble.org/PED00174</td><td>https://proteinensemble.org/#2021-02-12</td></tr><tr><td>https://bioschemas.org/entity/P03255</td><td>Retinoblastoma-associated protein</td><td>None</td><td>https://identifiers.org/uniprot:P06400,<br/>https://identifiers.org/uniprot:P03255</td><td>None</td><td>https://proteinensemble.org/PED00174#P03255_B_1_36_146,<br/>https://proteinensemble.org/PED00174#P06400_A_0_372_581,<br/>https://proteinensemble.org/PED00174#P06400_A_1_643_787</td><td>None</td><td>None</td><td>None</td><td>None</td><td>None</td><td>None</td><td>None</td><td>SHFEPPTLHELYDLDVTAPEDPNEEAVSQIFPDSVMLAVQEGIDLLTFPPAPGSPEPPHLSRQPEQPEQRALGPVSMPNLVPEVIDLTCHEAGFPPSDDEDEEGEEFVLDY,<br/>KSTSLSLFYKKVYRLAYLRLNTLCERLLSEHPELEHIIWTLFQHTLQNEYELMRDRHLDQIMMCSMYGICKVKNIDLKFKIIVTAYKDLPHAVQETFKRVLIKEEEYDSIIVFYNSVFMQRLKTNILQYASTRPPTLSPIPHIPR,<br/>HTPVRTVMNTIQQLMMILNSASDQPSENLISYFNNCTVNPKESILKRVKDIGYIFKEKFAKAVGQGCVEIGSQRYKLGVRLYYRVMESMLKSEEERLSIQNFSKLLNDNIFHMSLLACALEVVMATYSRSTSQNLDSGTDLSFPWILNVLNLKAFDFYKVIESFIKAEGNLTREMIKHLERCEHRIMESLAWLSDSPLFDLIKQSKDREG</td><td>None</td><td>None</td><td>None</td><td>None</td><td>None</td><td>None</td><td>http://purl.uniprot.org/uniprot/P03255,<br/>https://proteinensemble.org/PED00174#P06400_A_0,<br/>https://proteinensemble.org/PED00174#P06400_A_1,<br/>https://proteinensemble.org/PED00174#P03255_B_1,<br/>http://purl.uniprot.org/uniprot/P06400</td><td>https://proteinensemble.org/PED00174</td><td>https://proteinensemble.org/#2021-02-12</td></tr><tr><td>https://bioschemas.org/entity/P52292</td><td>Importin subunit alpha-1</td><td>None</td><td>https://identifiers.org/uniprot:P52292</td><td>None</td><td>https://proteinensemble.org/PED00148#P52292_A_0_3_97</td><td>None</td><td>None</td><td>None</td><td>None</td><td>None</td><td>None</td><td>None</td><td>TNENANTPAARLHRFKNKGKDSTEMRRRRIEVNVELRKAKKDDQMLKRRNVSSFPDDATSPLQENRNNQGTVNWSVDDIVKGINSSNVENQLQAT</td><td>None</td><td>None</td><td>None</td><td>None</td><td>None</td><td>None</td><td>https://proteinensemble.org/PED00148#P52292_A_0,<br/>http://purl.uniprot.org/uniprot/P52292</td><td>https://proteinensemble.org/PED00148</td><td>https://proteinensemble.org/#2021-02-12</td></tr><tr><td>https://bioschemas.org/entity/P03045</td><td>Antitermination protein N</td><td>None</td><td>https://identifiers.org/disprot:DP00005</td><td>None</td><td>https://disprot.org/DP00005r006,<br/>https://disprot.org/DP00005r005,<br/>https://disprot.org/DP00005r013,<br/>https://disprot.org/DP00005r001,<br/>https://disprot.org/DP00005r012,<br/>https://disprot.org/DP00005r016,<br/>https://disprot.org/DP00005r008,<br/>https://disprot.org/DP00005r015,<br/>https://disprot.org/DP00005r010,<br/>https://disprot.org/DP00005r018,<br/>https://disprot.org/DP00005r007,<br/>https://disprot.org/DP00005r014,<br/>https://disprot.org/DP00005r011,<br/>https://disprot.org/DP00005r009,<br/>https://disprot.org/DP00005r004,<br/>https://disprot.org/DP00005r017</td><td>None</td><td>https://bioschemas.org/crawl/v1/disprot/DP00005/20210813/9/disprot.org/DP00005/2033189699</td><td>None</td><td>None</td><td>None</td><td>None</td><td>None</td><td>MDAQTRRRERRAEKQAQWKAANPLLVGVSAKPVNRPILSLNRKPKSRVESALNPIDLTVLAEYHKQIESNLQRIERKNQRTWYSKPGERGITCSGRQKIKGKSIPLI</td><td>None</td><td>None</td><td>None</td><td>None</td><td>None</td><td>None</td><td>https://disprot.org/DP00005,<br/>http://purl.uniprot.org/uniprot/P03045</td><td>https://disprot.org/DP00005</td><td>https://disprot.org/#2020-12</td></tr></table>"
      ],
      "text/plain": [
       "<IPython.core.display.HTML object>"
      ]
     },
     "metadata": {},
     "output_type": "display_data"
    }
   ],
   "source": [
    "displayResults(idpKG.query(\"\"\"\n",
    "PREFIX schema: <https://schema.org/>\n",
    "PREFIX pav: <http://purl.org/pav/>\n",
    "PREFIX void: <http://rdfs.org/ns/void#>\n",
    "\n",
    "SELECT  ?s ?name ?description\n",
    "    (GROUP_CONCAT(DISTINCT ?identifier;SEPARATOR=',<br/>') AS ?identifiers)\n",
    "    ?associatedDisease\n",
    "    (GROUP_CONCAT(DISTINCT ?annotation;SEPARATOR=',<br/>') AS ?annotations)\n",
    "    ?encodedBy\n",
    "    ?taxonomicRange\n",
    "    ?url\n",
    "    ?alternateName\n",
    "    ?bioChemInteraction\n",
    "    ?bioChemSimilarity\n",
    "    ?bioChemEntity\n",
    "    (GROUP_CONCAT(DISTINCT ?sequence;SEPARATOR=',<br/>') AS ?sequences)\n",
    "    ?molFunction\n",
    "    ?representation\n",
    "    ?image\n",
    "    ?process\n",
    "    ?cellularLocation\n",
    "    ?parentEntity\n",
    "    (GROUP_CONCAT(DISTINCT ?sameAs;SEPARATOR=',<br/>') AS ?sameAs)\n",
    "    (GROUP_CONCAT(DISTINCT ?source;SEPARATOR=',<br/>') AS ?sources)\n",
    "    (GROUP_CONCAT(DISTINCT ?dataset;SEPARATOR=',<br/>') AS ?datasets)\n",
    "WHERE {\n",
    "    GRAPH ?g {\n",
    "# Bioschemas Minimal Properties\n",
    "        ?s a schema:Protein .\n",
    "        OPTIONAL {?s schema:identifier ?identifier }\n",
    "        OPTIONAL {?s schema:name ?name }\n",
    "## Bioschemas Recommended properties\n",
    "        OPTIONAL {?s schema:associatedDisease ?associatedDisease}\n",
    "        OPTIONAL {?s schema:description ?description}\n",
    "        #OPTIONAL \n",
    "        {?s schema:hasSequenceAnnotation ?annotation }\n",
    "        OPTIONAL {?s schema:isEncodedByBioChemEntity ?encodedBy}\n",
    "        OPTIONAL {?s schema:taxonomicRange ?taxonomicRange }\n",
    "        OPTIONAL {?s schema:url ?url}\n",
    "## Bioschemas Optional properties\n",
    "        OPTIONAL {?s schema:alternateName ?alternateName}\n",
    "        OPTIONAL {?s schema:bioChemInteraction ?bioChemInteraction}\n",
    "        OPTIONAL {?s schema:bioChemSimilarity ?bioChemSimilarity}\n",
    "        OPTIONAL {?s schema:hasBioChemEntityPart ?bioChemEntity}\n",
    "        OPTIONAL {?s schema:hasBioPolymerSequence ?sequence}\n",
    "        OPTIONAL {?s schema:hasMolecularFunction ?molFunction}\n",
    "        OPTIONAL {?s schema:hasRepresentation ?representation }\n",
    "        OPTIONAL {?s schema:image ?image}\n",
    "        OPTIONAL {?s schema:isInvolvedInBiologicalProcess ?process}\n",
    "        OPTIONAL {?s schema:isLocatedInSubcellularLocation ?cellularLocation}\n",
    "        OPTIONAL {?s schema:isPartOfBioChemEntity ?parentEntity}\n",
    "        OPTIONAL {?s schema:sameAs ?sameAs }\n",
    "    }\n",
    "    ?g pav:retrievedFrom ?source ;\n",
    "    OPTIONAL {?g void:inDataset ?dataset}\n",
    "}\n",
    "GROUP BY ?s\n",
    "\"\"\"))"
   ]
  },
  {
   "cell_type": "markdown",
   "metadata": {},
   "source": [
    "## Analysis of Sequence Annotations"
   ]
  },
  {
   "cell_type": "markdown",
   "metadata": {},
   "source": [
    "### Sequence Annotations per Dataset\n",
    "\n",
    "Display the number of sequence annotations per dataset."
   ]
  },
  {
   "cell_type": "code",
   "execution_count": 25,
   "metadata": {},
   "outputs": [
    {
     "data": {
      "text/html": [
       "<p>Number of results: 3</p><table><tr style=\"color:white;background-color:#43BFC7;font-weight:bold\"><td>dataset</td><td>annotations</td></tr><tr><td>https://disprot.org/#2020-12</td><td>21</td></tr><tr><td>https://mobidb.org/#2020-09</td><td>3</td></tr><tr><td>https://proteinensemble.org/#2021-02-12</td><td>5</td></tr></table>"
      ],
      "text/plain": [
       "<IPython.core.display.HTML object>"
      ]
     },
     "metadata": {},
     "output_type": "display_data"
    }
   ],
   "source": [
    "displayResults(idpKG.query(\"\"\"\n",
    "PREFIX schema: <https://schema.org/>\n",
    "PREFIX pav: <http://purl.org/pav/>\n",
    "PREFIX void: <http://rdfs.org/ns/void#>\n",
    "\n",
    "SELECT ?dataset (COUNT(DISTINCT ?s) AS ?annotations) \n",
    "WHERE {\n",
    "    GRAPH ?g {\n",
    "        ?s a schema:SequenceAnnotation\n",
    "    }\n",
    "    ?g void:inDataset ?dataset\n",
    "} \n",
    "GROUP BY ?dataset\n",
    "\"\"\"))"
   ]
  },
  {
   "cell_type": "markdown",
   "metadata": {},
   "source": [
    "### Sequence Annotations from Multiple Datasets\n",
    "\n",
    "Display the number of sequence annotations that come from multiple datasets.\n",
    "\n",
    "_Note that sequence annotations are not merged based on any feature so we would not expect any sequence annotations to match the criteria in this query._"
   ]
  },
  {
   "cell_type": "code",
   "execution_count": 26,
   "metadata": {},
   "outputs": [
    {
     "data": {
      "text/html": [
       "<p>Number of results: 0</p><table><tr style=\"color:white;background-color:#43BFC7;font-weight:bold\"><td>annotation</td><td>numDatasets</td><td>datasets</td></tr></table>"
      ],
      "text/plain": [
       "<IPython.core.display.HTML object>"
      ]
     },
     "metadata": {},
     "output_type": "display_data"
    }
   ],
   "source": [
    "displayResults(idpKG.query(\"\"\"\n",
    "PREFIX schema: <https://schema.org/>\n",
    "PREFIX pav: <http://purl.org/pav/>\n",
    "PREFIX void: <http://rdfs.org/ns/void#>\n",
    "\n",
    "SELECT ?annotation (COUNT(?g) as ?numDatasets) (GROUP_CONCAT(?dataset;SEPARATOR=\", \") AS ?datasets)\n",
    "WHERE {\n",
    "    GRAPH ?g {\n",
    "        ?annotation a schema:SequenceAnnotation .\n",
    "    }\n",
    "    ?g void:inDataset ?dataset .\n",
    "}\n",
    "GROUP BY ?annotation\n",
    "HAVING (COUNT(*) > 1)\n",
    "ORDER BY ?numDatasets\n",
    "\"\"\"))"
   ]
  },
  {
   "cell_type": "markdown",
   "metadata": {},
   "source": [
    "### Sequence Annotations from Multiple Pages\n",
    "\n",
    "Dislay the number of sequence annotations that come from multiple pages. It is conceivable that the same annotation comes from different pages in the same source, e.g. PED. However, as annotations are not combined, we would not expect any answers to the following query."
   ]
  },
  {
   "cell_type": "code",
   "execution_count": 27,
   "metadata": {},
   "outputs": [
    {
     "data": {
      "text/html": [
       "<p>Number of results: 0</p><table><tr style=\"color:white;background-color:#43BFC7;font-weight:bold\"><td>annotation</td><td>numSources</td><td>sources</td></tr></table>"
      ],
      "text/plain": [
       "<IPython.core.display.HTML object>"
      ]
     },
     "metadata": {},
     "output_type": "display_data"
    }
   ],
   "source": [
    "displayResults(idpKG.query(\"\"\"\n",
    "PREFIX schema: <https://schema.org/>\n",
    "PREFIX pav: <http://purl.org/pav/>\n",
    "SELECT ?annotation (COUNT(?g) as ?numSources) (GROUP_CONCAT(?source;SEPARATOR=\", \") AS ?sources)\n",
    "WHERE {\n",
    "    GRAPH ?g {\n",
    "        ?annotation a schema:SequenceAnnotation .\n",
    "    }\n",
    "    ?g pav:retrievedFrom ?source .\n",
    "}\n",
    "GROUP BY ?annotation\n",
    "HAVING (COUNT(*) > 1)\n",
    "ORDER BY ?numSources\n",
    "\"\"\"))"
   ]
  },
  {
   "cell_type": "markdown",
   "metadata": {},
   "source": [
    "### Sequence Annotation Information\n",
    "\n",
    "Return information known about each sequence annotation."
   ]
  },
  {
   "cell_type": "code",
   "execution_count": 28,
   "metadata": {},
   "outputs": [
    {
     "data": {
      "text/html": [
       "<p>Number of results: 66</p><table><tr style=\"color:white;background-color:#43BFC7;font-weight:bold\"><td>s</td><td>annotation</td><td>start</td><td>end</td><td>termCode</td><td>termName</td></tr><tr><td>https://bioschemas.org/entity/P03045</td><td>https://disprot.org/DP00005r006</td><td>1</td><td>107</td><td>IDPO:00066</td><td>RNA binding</td></tr><tr><td>https://bioschemas.org/entity/P03045</td><td>https://disprot.org/DP00005r005</td><td>1</td><td>107</td><td>IDPO:00076</td><td>Disorder</td></tr><tr><td>https://bioschemas.org/entity/P03045</td><td>https://disprot.org/DP00005r001</td><td>1</td><td>107</td><td>IDPO:00076</td><td>Disorder</td></tr><tr><td>https://bioschemas.org/entity/P03045</td><td>https://disprot.org/DP00005r008</td><td>1</td><td>107</td><td>IDPO:00021</td><td>Activator</td></tr><tr><td>https://bioschemas.org/entity/P03045</td><td>https://disprot.org/DP00005r010</td><td>1</td><td>107</td><td>IDPO:00017</td><td>Molecular recognition effector</td></tr><tr><td>https://bioschemas.org/entity/P03045</td><td>https://disprot.org/DP00005r007</td><td>1</td><td>107</td><td>IDPO:00076</td><td>Disorder</td></tr><tr><td>https://bioschemas.org/entity/P03045</td><td>https://disprot.org/DP00005r011</td><td>1</td><td>107</td><td>IDPO:00008</td><td>Molecular recognition assembler</td></tr><tr><td>https://bioschemas.org/entity/P03045</td><td>https://disprot.org/DP00005r009</td><td>1</td><td>107</td><td>IDPO:00021</td><td>Activator</td></tr><tr><td>https://bioschemas.org/entity/P03045</td><td>https://disprot.org/DP00005r004</td><td>1</td><td>107</td><td>IDPO:00076</td><td>Disorder</td></tr><tr><td>https://bioschemas.org/entity/P03045</td><td>https://disprot.org/DP00005r017</td><td>1</td><td>107</td><td>IDPO:00076</td><td>Disorder</td></tr><tr><td>https://bioschemas.org/entity/P03045</td><td>https://disprot.org/DP00005r012</td><td>1</td><td>22</td><td>IDPO:00050</td><td>Disorder to order</td></tr><tr><td>https://bioschemas.org/entity/P03045</td><td>https://disprot.org/DP00005r016</td><td>1</td><td>22</td><td>IDPO:00017</td><td>Molecular recognition effector</td></tr><tr><td>https://bioschemas.org/entity/P03045</td><td>https://disprot.org/DP00005r015</td><td>1</td><td>22</td><td>IDPO:00066</td><td>RNA binding</td></tr><tr><td>https://bioschemas.org/entity/P03045</td><td>https://disprot.org/DP00005r018</td><td>1</td><td>36</td><td>IDPO:00050</td><td>Disorder to order</td></tr><tr><td>https://bioschemas.org/entity/P03045</td><td>https://disprot.org/DP00005r013</td><td>34</td><td>47</td><td>IDPO:00063</td><td>Protein binding</td></tr><tr><td>https://bioschemas.org/entity/P03045</td><td>https://disprot.org/DP00005r014</td><td>34</td><td>47</td><td>IDPO:00063</td><td>Protein binding</td></tr><tr><td>https://bioschemas.org/entity/P03255</td><td>https://proteinensemble.org/PED00174#P03255_B_1_36_146</td><td>36</td><td>146</td><td>IDPO:00212</td><td>Ensemble optimization</td></tr><tr><td>https://bioschemas.org/entity/P03255</td><td>https://proteinensemble.org/PED00174#P03255_B_1_36_146</td><td>36</td><td>146</td><td>IDPO:00125</td><td>SAXS</td></tr><tr><td>https://bioschemas.org/entity/P03255</td><td>https://proteinensemble.org/PED00174#P03255_B_1_36_146</td><td>36</td><td>146</td><td>IDPO:00213</td><td>EOM</td></tr><tr><td>https://bioschemas.org/entity/P03255</td><td>https://proteinensemble.org/PED00174#P03255_B_1_36_146</td><td>36</td><td>146</td><td>IDPO:00208</td><td>CRYSOL</td></tr><tr><td>https://bioschemas.org/entity/P03255</td><td>https://proteinensemble.org/PED00174#P06400_A_0_372_581</td><td>372</td><td>581</td><td>IDPO:00212</td><td>Ensemble optimization</td></tr><tr><td>https://bioschemas.org/entity/P03255</td><td>https://proteinensemble.org/PED00174#P06400_A_0_372_581</td><td>372</td><td>581</td><td>IDPO:00213</td><td>EOM</td></tr><tr><td>https://bioschemas.org/entity/P03255</td><td>https://proteinensemble.org/PED00174#P06400_A_0_372_581</td><td>372</td><td>581</td><td>IDPO:00125</td><td>SAXS</td></tr><tr><td>https://bioschemas.org/entity/P03255</td><td>https://proteinensemble.org/PED00174#P06400_A_0_372_581</td><td>372</td><td>581</td><td>IDPO:00208</td><td>CRYSOL</td></tr><tr><td>https://bioschemas.org/entity/P03255</td><td>https://proteinensemble.org/PED00174#P06400_A_1_643_787</td><td>643</td><td>787</td><td>IDPO:00208</td><td>CRYSOL</td></tr><tr><td>https://bioschemas.org/entity/P03255</td><td>https://proteinensemble.org/PED00174#P06400_A_1_643_787</td><td>643</td><td>787</td><td>IDPO:00212</td><td>Ensemble optimization</td></tr><tr><td>https://bioschemas.org/entity/P03255</td><td>https://proteinensemble.org/PED00174#P06400_A_1_643_787</td><td>643</td><td>787</td><td>IDPO:00213</td><td>EOM</td></tr><tr><td>https://bioschemas.org/entity/P03255</td><td>https://proteinensemble.org/PED00174#P06400_A_1_643_787</td><td>643</td><td>787</td><td>IDPO:00125</td><td>SAXS</td></tr><tr><td>https://bioschemas.org/entity/P03265</td><td>https://mobidb.org/P03265#prediction-disorder-mobidb_lite.1_108</td><td>1</td><td>108</td><td>DO:00076</td><td>Disorder</td></tr><tr><td>https://bioschemas.org/entity/P03265</td><td>https://mobidb.org/P03265#prediction-disorder-mobidb_lite.125_166</td><td>125</td><td>166</td><td>DO:00076</td><td>Disorder</td></tr><tr><td>https://bioschemas.org/entity/P03265</td><td>https://disprot.org/DP00003r002</td><td>294</td><td>334</td><td>IDPO:00076</td><td>Disorder</td></tr><tr><td>https://bioschemas.org/entity/P03265</td><td>https://disprot.org/DP00003r004</td><td>454</td><td>464</td><td>IDPO:00076</td><td>Disorder</td></tr><tr><td>https://bioschemas.org/entity/P06400</td><td>https://proteinensemble.org/PED00174#P03255_B_1_36_146</td><td>36</td><td>146</td><td>IDPO:00212</td><td>Ensemble optimization</td></tr><tr><td>https://bioschemas.org/entity/P06400</td><td>https://proteinensemble.org/PED00174#P03255_B_1_36_146</td><td>36</td><td>146</td><td>IDPO:00125</td><td>SAXS</td></tr><tr><td>https://bioschemas.org/entity/P06400</td><td>https://proteinensemble.org/PED00174#P03255_B_1_36_146</td><td>36</td><td>146</td><td>IDPO:00213</td><td>EOM</td></tr><tr><td>https://bioschemas.org/entity/P06400</td><td>https://proteinensemble.org/PED00174#P03255_B_1_36_146</td><td>36</td><td>146</td><td>IDPO:00208</td><td>CRYSOL</td></tr><tr><td>https://bioschemas.org/entity/P06400</td><td>https://proteinensemble.org/PED00174#P06400_A_0_372_581</td><td>372</td><td>581</td><td>IDPO:00212</td><td>Ensemble optimization</td></tr><tr><td>https://bioschemas.org/entity/P06400</td><td>https://proteinensemble.org/PED00174#P06400_A_0_372_581</td><td>372</td><td>581</td><td>IDPO:00213</td><td>EOM</td></tr><tr><td>https://bioschemas.org/entity/P06400</td><td>https://proteinensemble.org/PED00174#P06400_A_0_372_581</td><td>372</td><td>581</td><td>IDPO:00125</td><td>SAXS</td></tr><tr><td>https://bioschemas.org/entity/P06400</td><td>https://proteinensemble.org/PED00174#P06400_A_0_372_581</td><td>372</td><td>581</td><td>IDPO:00208</td><td>CRYSOL</td></tr><tr><td>https://bioschemas.org/entity/P06400</td><td>https://proteinensemble.org/PED00174#P06400_A_1_643_787</td><td>643</td><td>787</td><td>IDPO:00208</td><td>CRYSOL</td></tr><tr><td>https://bioschemas.org/entity/P06400</td><td>https://proteinensemble.org/PED00174#P06400_A_1_643_787</td><td>643</td><td>787</td><td>IDPO:00212</td><td>Ensemble optimization</td></tr><tr><td>https://bioschemas.org/entity/P06400</td><td>https://proteinensemble.org/PED00174#P06400_A_1_643_787</td><td>643</td><td>787</td><td>IDPO:00213</td><td>EOM</td></tr><tr><td>https://bioschemas.org/entity/P06400</td><td>https://proteinensemble.org/PED00174#P06400_A_1_643_787</td><td>643</td><td>787</td><td>IDPO:00125</td><td>SAXS</td></tr><tr><td>https://bioschemas.org/entity/P38634</td><td>https://proteinensemble.org/PED00001#P38634_A_1_1_90</td><td>1</td><td>90</td><td>IDPO:00166</td><td>RDC</td></tr><tr><td>https://bioschemas.org/entity/P38634</td><td>https://proteinensemble.org/PED00001#P38634_A_1_1_90</td><td>1</td><td>90</td><td>IDPO:00192</td><td>CNS</td></tr><tr><td>https://bioschemas.org/entity/P38634</td><td>https://proteinensemble.org/PED00001#P38634_A_1_1_90</td><td>1</td><td>90</td><td>IDPO:00210</td><td>ShiftX</td></tr><tr><td>https://bioschemas.org/entity/P38634</td><td>https://proteinensemble.org/PED00001#P38634_A_1_1_90</td><td>1</td><td>90</td><td>IDPO:00167</td><td>chemical shift</td></tr><tr><td>https://bioschemas.org/entity/P38634</td><td>https://proteinensemble.org/PED00001#P38634_A_1_1_90</td><td>1</td><td>90</td><td>IDPO:00125</td><td>SAXS</td></tr><tr><td>https://bioschemas.org/entity/P38634</td><td>https://proteinensemble.org/PED00001#P38634_A_1_1_90</td><td>1</td><td>90</td><td>IDPO:00216</td><td>ENSEMBLE</td></tr><tr><td>https://bioschemas.org/entity/P38634</td><td>https://proteinensemble.org/PED00001#P38634_A_1_1_90</td><td>1</td><td>90</td><td>IDPO:00168</td><td>relaxation</td></tr><tr><td>https://bioschemas.org/entity/P38634</td><td>https://proteinensemble.org/PED00001#P38634_A_1_1_90</td><td>1</td><td>90</td><td>IDPO:00120</td><td>NMR</td></tr><tr><td>https://bioschemas.org/entity/P38634</td><td>https://proteinensemble.org/PED00001#P38634_A_1_1_90</td><td>1</td><td>90</td><td>IDPO:00186</td><td>TraDES</td></tr><tr><td>https://bioschemas.org/entity/P38634</td><td>https://proteinensemble.org/PED00001#P38634_A_1_1_90</td><td>1</td><td>90</td><td>IDPO:00169</td><td>T2 relaxation</td></tr><tr><td>https://bioschemas.org/entity/P38634</td><td>https://proteinensemble.org/PED00001#P38634_A_1_1_90</td><td>1</td><td>90</td><td>IDPO:00171</td><td>PRE </td></tr><tr><td>https://bioschemas.org/entity/P38634</td><td>https://proteinensemble.org/PED00001#P38634_A_1_1_90</td><td>1</td><td>90</td><td>IDPO:00208</td><td>CRYSOL</td></tr><tr><td>https://bioschemas.org/entity/P49913</td><td>https://disprot.org/DP00004r001</td><td>134</td><td>170</td><td>IDPO:00076</td><td>Disorder</td></tr><tr><td>https://bioschemas.org/entity/P49913</td><td>https://disprot.org/DP00004r002</td><td>134</td><td>170</td><td>IDPO:00050</td><td>Disorder to order</td></tr><tr><td>https://bioschemas.org/entity/P49913</td><td>https://disprot.org/DP00004r004</td><td>134</td><td>170</td><td>IDPO:00017</td><td>Molecular recognition effector</td></tr><tr><td>https://bioschemas.org/entity/P52292</td><td>https://proteinensemble.org/PED00148#P52292_A_0_3_97</td><td>3</td><td>97</td><td>IDPO:00227</td><td>CAMPARI</td></tr><tr><td>https://bioschemas.org/entity/P52292</td><td>https://proteinensemble.org/PED00148#P52292_A_0_3_97</td><td>3</td><td>97</td><td>IDPO:00125</td><td>SAXS</td></tr><tr><td>https://bioschemas.org/entity/P52292</td><td>https://proteinensemble.org/PED00148#P52292_A_0_3_97</td><td>3</td><td>97</td><td>IDPO:00218</td><td>COPER</td></tr><tr><td>https://bioschemas.org/entity/P52292</td><td>https://proteinensemble.org/PED00148#P52292_A_0_3_97</td><td>3</td><td>97</td><td>IDPO:00182</td><td>smFRET</td></tr><tr><td>https://bioschemas.org/entity/P52292</td><td>https://proteinensemble.org/PED00148#P52292_A_0_3_97</td><td>3</td><td>97</td><td>IDPO:00102</td><td>FRET</td></tr><tr><td>https://bioschemas.org/entity/P52292</td><td>https://proteinensemble.org/PED00148#P52292_A_0_3_97</td><td>3</td><td>97</td><td>IDPO:00222</td><td>ABSINTH</td></tr><tr><td>https://bioschemas.org/entity/Q12959</td><td>https://mobidb.org/Q12959#prediction-disorder-mobidb_lite.662_696</td><td>662</td><td>696</td><td>DO:00076</td><td>Disorder</td></tr></table>"
      ],
      "text/plain": [
       "<IPython.core.display.HTML object>"
      ]
     },
     "metadata": {},
     "output_type": "display_data"
    }
   ],
   "source": [
    "displayResults(idpKG.query(\"\"\"\n",
    "PREFIX schema: <https://schema.org/>\n",
    "\n",
    "SELECT ?s ?annotation ?start ?end ?termCode ?termName\n",
    "WHERE {\n",
    "    graph ?g {\n",
    "        ?s a schema:Protein;\n",
    "           schema:hasSequenceAnnotation ?annotation .\n",
    "        ?annotation schema:additionalProperty/schema:value ?term;\n",
    "            schema:sequenceLocation ?range .\n",
    "        ?range schema:rangeStart ?start ;\n",
    "               schema:rangeEnd ?end .\n",
    "        ?term schema:termCode ?termCode ;\n",
    "            schema:name ?termName .\n",
    "    }\n",
    "}    \n",
    "ORDER BY ?s ?start ?end\n",
    "\n",
    "\"\"\"))"
   ]
  },
  {
   "cell_type": "markdown",
   "metadata": {},
   "source": [
    "## Find proteins with annotations in multiple datasets\n",
    "\n",
    "We are looking for annotations where the protein is common but the annotation is different across the datasets."
   ]
  },
  {
   "cell_type": "markdown",
   "metadata": {},
   "source": [
    "### Proteins with Annotations in Multiple Datasets"
   ]
  },
  {
   "cell_type": "code",
   "execution_count": 29,
   "metadata": {},
   "outputs": [
    {
     "data": {
      "text/html": [
       "<p>Number of results: 1</p><table><tr style=\"color:white;background-color:#43BFC7;font-weight:bold\"><td>protein</td><td>name</td><td>annotationCount</td><td>datasets</td></tr><tr><td>https://bioschemas.org/entity/P03265</td><td>DNA-binding protein</td><td>4</td><td>2</td></tr></table>"
      ],
      "text/plain": [
       "<IPython.core.display.HTML object>"
      ]
     },
     "metadata": {},
     "output_type": "display_data"
    }
   ],
   "source": [
    "displayResults(idpKG.query(\"\"\"\n",
    "PREFIX pav: <http://purl.org/pav/>\n",
    "PREFIX schema: <https://schema.org/>\n",
    "PREFIX void: <http://rdfs.org/ns/void#>\n",
    "\n",
    "SELECT ?protein (SAMPLE(?proteinName) AS ?name) (COUNT(distinct ?annotation) AS ?annotationCount) (COUNT(distinct ?dataset) AS ?datasets)\n",
    "WHERE {\n",
    "    {\n",
    "        SELECT DISTINCT ?protein ?proteinName\n",
    "        WHERE {\n",
    "\t\t    GRAPH ?g {\n",
    "        \t\t?protein a schema:Protein .\n",
    "\t\t        OPTIONAL {?protein schema:name ?proteinName .}\n",
    "\t\t    }\n",
    "        }\n",
    "    }\n",
    "    {\n",
    "\t    SELECT ?annotation ?dataset ?protein\n",
    "    \tWHERE {\n",
    "        \tGRAPH ?g {\n",
    "            \t?protein schema:hasSequenceAnnotation ?annotation\n",
    "\t        }\n",
    "    \t    ?g void:inDataset ?dataset .\n",
    "\t    }\n",
    "    }\n",
    "} \n",
    "GROUP BY ?protein\n",
    "HAVING (COUNT(distinct ?dataset) > 1)\n",
    "ORDER BY DESC(?annotationCount)\n",
    "\"\"\"))"
   ]
  },
  {
   "cell_type": "markdown",
   "metadata": {},
   "source": [
    "### Proteins with Annotations in Multiple Pages\n",
    "\n",
    "As sources such as PED can have the same protein detailed on multiple pages, it is also interesting to look at this at the page level."
   ]
  },
  {
   "cell_type": "markdown",
   "metadata": {},
   "source": [
    "The following query finds for each protein, its name (if known), a count of the number of sequence annotations, and a count of the number of sources from which the data has been extracted. Results are only returned if there are annotations from more than one source."
   ]
  },
  {
   "cell_type": "code",
   "execution_count": 30,
   "metadata": {},
   "outputs": [
    {
     "data": {
      "text/html": [
       "<p>Number of results: 1</p><table><tr style=\"color:white;background-color:#43BFC7;font-weight:bold\"><td>protein</td><td>name</td><td>annotationCount</td><td>sourceCount</td></tr><tr><td>https://bioschemas.org/entity/P03265</td><td>DNA-binding protein</td><td>4</td><td>2</td></tr></table>"
      ],
      "text/plain": [
       "<IPython.core.display.HTML object>"
      ]
     },
     "metadata": {},
     "output_type": "display_data"
    }
   ],
   "source": [
    "displayResults(idpKG.query(\"\"\"\n",
    "PREFIX pav: <http://purl.org/pav/>\n",
    "PREFIX schema: <https://schema.org/>\n",
    "SELECT ?protein (SAMPLE(?proteinName) AS ?name) (COUNT(distinct ?annotation) AS ?annotationCount) (COUNT(distinct ?source) AS ?sourceCount)\n",
    "WHERE {\n",
    "    {\n",
    "        SELECT DISTINCT ?protein ?proteinName\n",
    "        WHERE {\n",
    "\t\t    GRAPH ?g {\n",
    "        \t\t?protein a schema:Protein .\n",
    "\t\t        OPTIONAL {?protein schema:name ?proteinName .}\n",
    "\t\t    }\n",
    "        }\n",
    "    }\n",
    "    {\n",
    "\t    SELECT ?annotation ?source ?protein\n",
    "    \tWHERE {\n",
    "        \tGRAPH ?g {\n",
    "            \t?protein schema:hasSequenceAnnotation ?annotation\n",
    "\t        }\n",
    "    \t    ?g pav:retrievedFrom ?source .\n",
    "\t    }\n",
    "    }\n",
    "} \n",
    "GROUP BY ?protein\n",
    "HAVING (COUNT(distinct ?source) > 1)\n",
    "ORDER BY DESC(?annotationCount)\n",
    "\"\"\"))"
   ]
  },
  {
   "cell_type": "markdown",
   "metadata": {},
   "source": [
    "The following varient of the query will list the annotations and the source from which the annotation has come."
   ]
  },
  {
   "cell_type": "code",
   "execution_count": 31,
   "metadata": {},
   "outputs": [
    {
     "data": {
      "text/html": [
       "<p>Number of results: 32</p><table><tr style=\"color:white;background-color:#43BFC7;font-weight:bold\"><td>protein</td><td>proteinName</td><td>annotation</td><td>source</td></tr><tr><td>https://bioschemas.org/entity/P03045</td><td>Antitermination protein N</td><td>https://disprot.org/DP00005r001</td><td>https://disprot.org/DP00005</td></tr><tr><td>https://bioschemas.org/entity/P03045</td><td>Antitermination protein N</td><td>https://disprot.org/DP00005r004</td><td>https://disprot.org/DP00005</td></tr><tr><td>https://bioschemas.org/entity/P03045</td><td>Antitermination protein N</td><td>https://disprot.org/DP00005r005</td><td>https://disprot.org/DP00005</td></tr><tr><td>https://bioschemas.org/entity/P03045</td><td>Antitermination protein N</td><td>https://disprot.org/DP00005r006</td><td>https://disprot.org/DP00005</td></tr><tr><td>https://bioschemas.org/entity/P03045</td><td>Antitermination protein N</td><td>https://disprot.org/DP00005r007</td><td>https://disprot.org/DP00005</td></tr><tr><td>https://bioschemas.org/entity/P03045</td><td>Antitermination protein N</td><td>https://disprot.org/DP00005r008</td><td>https://disprot.org/DP00005</td></tr><tr><td>https://bioschemas.org/entity/P03045</td><td>Antitermination protein N</td><td>https://disprot.org/DP00005r009</td><td>https://disprot.org/DP00005</td></tr><tr><td>https://bioschemas.org/entity/P03045</td><td>Antitermination protein N</td><td>https://disprot.org/DP00005r010</td><td>https://disprot.org/DP00005</td></tr><tr><td>https://bioschemas.org/entity/P03045</td><td>Antitermination protein N</td><td>https://disprot.org/DP00005r011</td><td>https://disprot.org/DP00005</td></tr><tr><td>https://bioschemas.org/entity/P03045</td><td>Antitermination protein N</td><td>https://disprot.org/DP00005r012</td><td>https://disprot.org/DP00005</td></tr><tr><td>https://bioschemas.org/entity/P03045</td><td>Antitermination protein N</td><td>https://disprot.org/DP00005r013</td><td>https://disprot.org/DP00005</td></tr><tr><td>https://bioschemas.org/entity/P03045</td><td>Antitermination protein N</td><td>https://disprot.org/DP00005r014</td><td>https://disprot.org/DP00005</td></tr><tr><td>https://bioschemas.org/entity/P03045</td><td>Antitermination protein N</td><td>https://disprot.org/DP00005r015</td><td>https://disprot.org/DP00005</td></tr><tr><td>https://bioschemas.org/entity/P03045</td><td>Antitermination protein N</td><td>https://disprot.org/DP00005r016</td><td>https://disprot.org/DP00005</td></tr><tr><td>https://bioschemas.org/entity/P03045</td><td>Antitermination protein N</td><td>https://disprot.org/DP00005r017</td><td>https://disprot.org/DP00005</td></tr><tr><td>https://bioschemas.org/entity/P03045</td><td>Antitermination protein N</td><td>https://disprot.org/DP00005r018</td><td>https://disprot.org/DP00005</td></tr><tr><td>https://bioschemas.org/entity/P03255</td><td>Retinoblastoma-associated protein</td><td>https://proteinensemble.org/PED00174#P03255_B_1_36_146</td><td>https://proteinensemble.org/PED00174</td></tr><tr><td>https://bioschemas.org/entity/P03255</td><td>Retinoblastoma-associated protein</td><td>https://proteinensemble.org/PED00174#P06400_A_0_372_581</td><td>https://proteinensemble.org/PED00174</td></tr><tr><td>https://bioschemas.org/entity/P03255</td><td>Retinoblastoma-associated protein</td><td>https://proteinensemble.org/PED00174#P06400_A_1_643_787</td><td>https://proteinensemble.org/PED00174</td></tr><tr><td>https://bioschemas.org/entity/P03265</td><td>DNA-binding protein</td><td>https://disprot.org/DP00003r002</td><td>https://disprot.org/DP00003</td></tr><tr><td>https://bioschemas.org/entity/P03265</td><td>DNA-binding protein</td><td>https://disprot.org/DP00003r004</td><td>https://disprot.org/DP00003</td></tr><tr><td>https://bioschemas.org/entity/P03265</td><td>DNA-binding protein</td><td>https://mobidb.org/P03265#prediction-disorder-mobidb_lite.125_166</td><td>https://mobidb.org/P03265</td></tr><tr><td>https://bioschemas.org/entity/P03265</td><td>DNA-binding protein</td><td>https://mobidb.org/P03265#prediction-disorder-mobidb_lite.1_108</td><td>https://mobidb.org/P03265</td></tr><tr><td>https://bioschemas.org/entity/P06400</td><td>Retinoblastoma-associated protein</td><td>https://proteinensemble.org/PED00174#P03255_B_1_36_146</td><td>https://proteinensemble.org/PED00174</td></tr><tr><td>https://bioschemas.org/entity/P06400</td><td>Retinoblastoma-associated protein</td><td>https://proteinensemble.org/PED00174#P06400_A_0_372_581</td><td>https://proteinensemble.org/PED00174</td></tr><tr><td>https://bioschemas.org/entity/P06400</td><td>Retinoblastoma-associated protein</td><td>https://proteinensemble.org/PED00174#P06400_A_1_643_787</td><td>https://proteinensemble.org/PED00174</td></tr><tr><td>https://bioschemas.org/entity/P38634</td><td>Protein SIC1</td><td>https://proteinensemble.org/PED00001#P38634_A_1_1_90</td><td>https://proteinensemble.org/PED00001</td></tr><tr><td>https://bioschemas.org/entity/P49913</td><td>Cathelicidin antimicrobial peptide</td><td>https://disprot.org/DP00004r001</td><td>https://disprot.org/DP00004</td></tr><tr><td>https://bioschemas.org/entity/P49913</td><td>Cathelicidin antimicrobial peptide</td><td>https://disprot.org/DP00004r002</td><td>https://disprot.org/DP00004</td></tr><tr><td>https://bioschemas.org/entity/P49913</td><td>Cathelicidin antimicrobial peptide</td><td>https://disprot.org/DP00004r004</td><td>https://disprot.org/DP00004</td></tr><tr><td>https://bioschemas.org/entity/P52292</td><td>Importin subunit alpha-1</td><td>https://proteinensemble.org/PED00148#P52292_A_0_3_97</td><td>https://proteinensemble.org/PED00148</td></tr><tr><td>https://bioschemas.org/entity/Q12959</td><td>Disks large homolog 1</td><td>https://mobidb.org/Q12959#prediction-disorder-mobidb_lite.662_696</td><td>https://mobidb.org/Q12959</td></tr></table>"
      ],
      "text/plain": [
       "<IPython.core.display.HTML object>"
      ]
     },
     "metadata": {},
     "output_type": "display_data"
    }
   ],
   "source": [
    "displayResults(idpKG.query(\"\"\"\n",
    "PREFIX pav: <http://purl.org/pav/>\n",
    "PREFIX schema: <https://schema.org/>\n",
    "SELECT ?protein ?proteinName ?annotation ?source\n",
    "WHERE {\n",
    "    {\n",
    "        SELECT DISTINCT ?protein ?proteinName\n",
    "        WHERE {\n",
    "\t\t    GRAPH ?g {\n",
    "        \t\t?protein a schema:Protein .\n",
    "\t\t        OPTIONAL {?protein schema:name ?proteinName .}\n",
    "\t\t    }\n",
    "        }\n",
    "    }\n",
    "    {\n",
    "        SELECT ?annotation ?source ?protein\n",
    "        WHERE {\n",
    "            GRAPH ?g {\n",
    "                ?protein schema:hasSequenceAnnotation ?annotation\n",
    "            }\n",
    "            ?g pav:retrievedFrom ?source .\n",
    "        }\n",
    "    }\n",
    "} \n",
    "ORDER BY ?protein ?annotation\n",
    "\"\"\"))"
   ]
  },
  {
   "cell_type": "code",
   "execution_count": null,
   "metadata": {},
   "outputs": [],
   "source": []
  }
 ],
 "metadata": {
  "kernelspec": {
   "display_name": "Python 3 (ipykernel)",
   "language": "python",
   "name": "python3"
  },
  "language_info": {
   "codemirror_mode": {
    "name": "ipython",
    "version": 3
   },
   "file_extension": ".py",
   "mimetype": "text/x-python",
   "name": "python",
   "nbconvert_exporter": "python",
   "pygments_lexer": "ipython3",
   "version": "3.9.5"
  },
  "toc-autonumbering": true,
  "toc-showcode": false,
  "toc-showmarkdowntxt": false,
  "toc-showtags": false
 },
 "nbformat": 4,
 "nbformat_minor": 4
}
