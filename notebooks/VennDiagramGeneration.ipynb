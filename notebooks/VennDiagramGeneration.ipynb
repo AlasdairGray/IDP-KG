{
 "cells": [
  {
   "cell_type": "markdown",
   "id": "d7a438a2-ae0b-4006-82ee-a5e45efa8ae2",
   "metadata": {},
   "source": [
    "# Venn Diagram Generation\n",
    "\n",
    "Ivan Mičetić ([ORCID:0000-0003-1691-8425](https://orcid.org/0000-0003-1691-8425)), _University of Padua, Italy_\n",
    "\n",
    "Alasdair J G Gray ([ORCID:0000-0002-5711-4872](http://orcid.org/0000-0002-5711-4872)), _Heriot-Watt University, Edinburgh, UK_\n",
    "\n",
    "\n",
    "__License:__ Apache 2.0\n",
    "\n",
    "__Acknowledgements:__ This work was funded as part of the [ELIXIR Interoperabiltiy Platform](https://elixir-europe.org/platforms/interoperability) Strategic Implementation Study [Exploiting Bioschemas Markup to Support ELIXIR Communities](https://elixir-europe.org/about-us/commissioned-services/exploiting-bioschemas-markup-support-elixir-communities). This notebook builds upon the work conducted during the Virtual BioHackathon-Europe 2020 reported in [BioHackrXiv](https://biohackrxiv.org/v3jct/).\n",
    "\n",
    "## Introduction\n",
    "\n",
    "This notebook generates a Venn diagram plot of the intersections of the proteins from the three IDP data sources."
   ]
  },
  {
   "cell_type": "code",
   "execution_count": null,
   "id": "08107e7b-67ec-47c2-887f-840cfad6b0ce",
   "metadata": {
    "tags": []
   },
   "outputs": [],
   "source": [
    "import json\n",
    "import rdflib\n",
    "from rdflib import ConjunctiveGraph, plugin\n",
    "from rdflib.serializer import Serializer\n",
    "from matplotlib import pyplot as plt\n",
    "from matplotlib_venn import venn3"
   ]
  },
  {
   "cell_type": "code",
   "execution_count": null,
   "id": "3c2e95ac-e774-46c3-993b-0f14cb095f30",
   "metadata": {},
   "outputs": [],
   "source": [
    "# Read query in from file\n",
    "queryFile = 'proteins/proteins-by-dataset-groupings.rq'\n",
    "print(f'Reading query {queryFile} ...')\n",
    "with open('../queries/'+queryFile) as f:\n",
    "    query = f.read()"
   ]
  },
  {
   "cell_type": "markdown",
   "id": "5842b47a-abe3-4dc4-affa-ef91d6c0f4ea",
   "metadata": {},
   "source": [
    "## Query Execution\n",
    "\n",
    "The query to gather the data for creating the Venn diagram can either be executed against the SWeL server or using the RDFlib in-memory local store.\n",
    "\n",
    "The default (and fastest) is to use the SWeL triplestore. You should not need to change the code to do this. However, this requires that the version of the dataset in the triplestore corresponds to the version that you want to generate the figure for.\n",
    "\n",
    "To load a custom triplestore, change the type of the following cell to a Code cell and execute the code. Note that the data is expected to be in the file `IDPKG-Full.nq`; this should correspond to the output of the generation notebook."
   ]
  },
  {
   "cell_type": "raw",
   "id": "05cac616-9b09-4665-9136-e707341c1dbe",
   "metadata": {},
   "source": [
    "# Load dataset into local in-memory endpoint\n",
    "## Note that this approach will take a long time\n",
    "idpKG = ConjunctiveGraph()\n",
    "#dataset = 'IDPKG-Sample8.nq'\n",
    "#dataset = 'IDPKG-Sample25.nq'\n",
    "dataset = 'IDPKG-Full.nq'\n",
    "#dataset = 'IDPKG.nq'\n",
    "print(f\"Loading dataset {dataset} ...\")\n",
    "idpKG.parse(dataset, format=\"nquads\")\n",
    "print(f\"IDP-KG has {len(idpKG)} statements.\")\n",
    "print(\"Starting query execution (this may take some time)...\")\n",
    "results = idpKG.query(query)\n",
    "results = json.loads(results.serialize(format=\"json\"))\n",
    "print(f\"Number of Results: {len(results['results']['bindings'])}\")"
   ]
  },
  {
   "cell_type": "code",
   "execution_count": null,
   "id": "04dc4f0e-1d9d-4a23-b805-92466ce2d80b",
   "metadata": {},
   "outputs": [],
   "source": [
    "# Set up querying through remote SPARQL endpoint\n",
    "endpoint = \"https://swel.macs.hw.ac.uk/data/repositories/idpkg\"\n",
    "print(f\"Executing query against external endpoint: \\n\\t\" + endpoint)\n",
    "from SPARQLWrapper import SPARQLWrapper, POST, JSON\n",
    "sparql = SPARQLWrapper(endpoint)\n",
    "sparql.setReturnFormat(JSON)\n",
    "sparql.setMethod(POST)\n",
    "sparql.setQuery(query)\n",
    "results = sparql.queryAndConvert()\n",
    "print(f\"Number of Results: {len(results['results']['bindings'])}\")"
   ]
  },
  {
   "cell_type": "markdown",
   "id": "950c2b8f-0620-401c-bc4f-ef58ae7580be",
   "metadata": {},
   "source": [
    "## Venn Diagram Creation\n",
    "\n",
    "The results of the query are now used to plot the Venn diagram.\n",
    "\n",
    "The diagram is written out to `venn.png`."
   ]
  },
  {
   "cell_type": "code",
   "execution_count": null,
   "id": "30967f34-8825-43e2-a5f5-137832b70d58",
   "metadata": {},
   "outputs": [],
   "source": [
    "# extract subsets\n",
    "Abc = int(next((i['count']['value'] for i in results['results']['bindings'] if i['description']['value'] == 'MobiDB \\ (DisProt U PED)')))\n",
    "aBc = int(next((i['count']['value'] for i in results['results']['bindings'] if i['description']['value'] == 'DisProt \\ (MobiDB U PED)')))\n",
    "ABc = int(next((i['count']['value'] for i in results['results']['bindings'] if i['description']['value'] == '(DisProt n MobiDB) \\ PED')))\n",
    "abC = int(next((i['count']['value'] for i in results['results']['bindings'] if i['description']['value'] == 'PED \\ (DisProt U MobiDB)')))\n",
    "AbC = int(next((i['count']['value'] for i in results['results']['bindings'] if i['description']['value'] == '(MobiDB n PED) \\ DisProt')))\n",
    "aBC = int(next((i['count']['value'] for i in results['results']['bindings'] if i['description']['value'] == '(DisProt n PED) \\ MobiDB')))\n",
    "ABC = int(next((i['count']['value'] for i in results['results']['bindings'] if i['description']['value'] == 'DisProt n MobiDB n PED')))\n",
    "\n",
    "# plot Venn diagram\n",
    "plt.figure(figsize=(11, 9))\n",
    "venn3(subsets=(Abc, aBc, ABc, abC, AbC, aBC, ABC), set_labels=('MobiDB', 'DisProt', 'PED'))\n",
    "## Venn for 2021-09-28\n",
    "# venn3(subsets=(624, 586, 1401, 34, 5, 7, 44), set_labels=('MobiDB', 'DisProt', 'PED'))\n",
    "plt.savefig('venn.png')\n",
    "plt.show()"
   ]
  },
  {
   "cell_type": "code",
   "execution_count": null,
   "id": "2d63a139-126d-4de8-9805-b183df501d29",
   "metadata": {},
   "outputs": [],
   "source": []
  }
 ],
 "metadata": {
  "kernelspec": {
   "display_name": "Python 3 (ipykernel)",
   "language": "python",
   "name": "python3"
  },
  "language_info": {
   "codemirror_mode": {
    "name": "ipython",
    "version": 3
   },
   "file_extension": ".py",
   "mimetype": "text/x-python",
   "name": "python",
   "nbconvert_exporter": "python",
   "pygments_lexer": "ipython3",
   "version": "3.8.13"
  }
 },
 "nbformat": 4,
 "nbformat_minor": 5
}
